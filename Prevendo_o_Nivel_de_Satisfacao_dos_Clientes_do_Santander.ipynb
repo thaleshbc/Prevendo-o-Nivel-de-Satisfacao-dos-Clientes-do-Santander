{
 "cells": [
  {
   "cell_type": "markdown",
   "metadata": {
    "id": "5_IvnXwiwnK3"
   },
   "source": [
    "<h1><center><b>Formação Cientista de Dados</b></center></h1>\n",
    "<h1><center>Curso: Big Data Real-Time Analytics com Python e Spark</center></h1><br>\n",
    "<h2><center>Prevendo o Nível de Satisfação dos Clientes do Santander</center></h2>\n",
    "<h3><center>Aluno: Thales Henrique Barros Cardoso</center></h3><br>\n",
    "\n",
    "**Problema de Negócios**: Prever, através de aprendizado de máquina, se um determinado cliente está satisfeito ou não com o Santander, usando para isso recursos anônimos disponibilizados pela instituição.<br><br>\n",
    "**Ferramentas**: Python 3, Jupyter Notebook.\n",
    "\n"
   ]
  },
  {
   "cell_type": "markdown",
   "metadata": {
    "id": "IuAsvHIu3zpj"
   },
   "source": [
    "<p align=\"justify\"><h1>1. Análise Exploratória</h1></p>"
   ]
  },
  {
   "cell_type": "markdown",
   "metadata": {
    "id": "O3XBo4724U4X"
   },
   "source": [
    "<p align=\"justify\"><h2>1.1. Formatação do conjunto de dados e tipo dos atributos</h2></p>"
   ]
  },
  {
   "cell_type": "code",
   "execution_count": 1,
   "metadata": {
    "colab": {
     "base_uri": "https://localhost:8080/"
    },
    "id": "Dq6-PVlm7HCM",
    "outputId": "7bacb731-469e-403d-9ede-e24df1224093"
   },
   "outputs": [
    {
     "name": "stdout",
     "output_type": "stream",
     "text": [
      "3.7.3 (default, Mar 27 2019, 17:13:21) [MSC v.1915 64 bit (AMD64)]\n",
      "0.24.2\n",
      "1.16.2\n"
     ]
    }
   ],
   "source": [
    "# Importação das primeiras bibliotecas a serem utilizadas na análise exploratória\n",
    "import pandas as pd\n",
    "import numpy as np\n",
    "import matplotlib.pyplot as plt\n",
    "%matplotlib inline\n",
    "import seaborn as sns\n",
    "import sys\n",
    "\n",
    "print(sys.version)\n",
    "print(pd.__version__)\n",
    "print(np.__version__)\n",
    "\n"
   ]
  },
  {
   "cell_type": "code",
   "execution_count": 2,
   "metadata": {
    "id": "AAbGYS83AS_C"
   },
   "outputs": [],
   "source": [
    "# Importação e leitura dos dados\n",
    "dadosTreino = pd.read_csv(\"train.csv\")\n"
   ]
  },
  {
   "cell_type": "code",
   "execution_count": 3,
   "metadata": {
    "colab": {
     "base_uri": "https://localhost:8080/"
    },
    "id": "xITyCKFTCbln",
    "outputId": "3f844a9c-b6f4-4c64-b7fb-68b672b08b27"
   },
   "outputs": [
    {
     "name": "stdout",
     "output_type": "stream",
     "text": [
      "Dimensões do conjunto de dados:\n"
     ]
    },
    {
     "data": {
      "text/plain": [
       "(76020, 371)"
      ]
     },
     "execution_count": 3,
     "metadata": {},
     "output_type": "execute_result"
    }
   ],
   "source": [
    "# Dimensões do conjunto de dados\n",
    "print(\"Dimensões do conjunto de dados:\")\n",
    "dadosTreino.shape\n"
   ]
  },
  {
   "cell_type": "markdown",
   "metadata": {
    "id": "tX4bqtQ5HnOQ"
   },
   "source": [
    "<p align=\"justify\">Observamos que o conjunto de dados fornecido contém 371 atributos para analisar. O que torna os dados bastante complexo e custoso, quando falamos principalmente no momento de se realizar o aprendizado de máquina para poder realizar a previsão desejada.<br>\n",
    "De antemão já podemos visualizar a possibilidade de realizar uma redução de dimensionalidade após a exploração e tratamento dos dados, para assim reduzir a quantidade de atributos elegíveis a participar do treinamento, e diminuir o poder computacional necessário para treinar os algoritmos de apredizagem de máquina escolhidos.</p>"
   ]
  },
  {
   "cell_type": "code",
   "execution_count": 4,
   "metadata": {
    "colab": {
     "base_uri": "https://localhost:8080/"
    },
    "id": "UW68I9BuIa0x",
    "outputId": "beeeb882-5926-4ea7-e772-c1de35b394d0"
   },
   "outputs": [
    {
     "data": {
      "text/plain": [
       "int64      260\n",
       "float64    111\n",
       "dtype: int64"
      ]
     },
     "execution_count": 4,
     "metadata": {},
     "output_type": "execute_result"
    }
   ],
   "source": [
    "# Visualzando os tipos de dados de cada coluna\n",
    "dadosTreino.dtypes.value_counts()\n"
   ]
  },
  {
   "cell_type": "markdown",
   "metadata": {
    "id": "mWzJrVxxL4wV"
   },
   "source": [
    "<p align=\"justify\">Vemos que não há atributos do tipo string ou data nos dados, apenas inteiros e reais (float), de acordo com o processamento realizado pelo pandas durante a leitura do arquivo csv. Porém muitos desses atributos são categóricos, entretanto as categorias são representadas por números inteiros. Com isso vamos tentar ver a quantidade de valores únicos em cada atributo inteiro para tentarmos justificar essa hipótese.</p>"
   ]
  },
  {
   "cell_type": "code",
   "execution_count": 5,
   "metadata": {
    "colab": {
     "base_uri": "https://localhost:8080/"
    },
    "id": "AN_j_2WZNPHx",
    "outputId": "a3299590-a8c7-44f0-e2e1-5510549a30aa"
   },
   "outputs": [
    {
     "name": "stdout",
     "output_type": "stream",
     "text": [
      "Lista dos atributos inteiros:\n",
      "\n",
      "                           varNome   Tipo\n",
      "0                               ID  int64\n",
      "1                             var3  int64\n",
      "2                            var15  int64\n",
      "3                       ind_var1_0  int64\n",
      "4                         ind_var1  int64\n",
      "5                       ind_var2_0  int64\n",
      "6                         ind_var2  int64\n",
      "7                       ind_var5_0  int64\n",
      "8                         ind_var5  int64\n",
      "9                       ind_var6_0  int64\n",
      "10                        ind_var6  int64\n",
      "11                      ind_var8_0  int64\n",
      "12                        ind_var8  int64\n",
      "13                     ind_var12_0  int64\n",
      "14                       ind_var12  int64\n",
      "15                     ind_var13_0  int64\n",
      "16               ind_var13_corto_0  int64\n",
      "17                 ind_var13_corto  int64\n",
      "18               ind_var13_largo_0  int64\n",
      "19                 ind_var13_largo  int64\n",
      "20               ind_var13_medio_0  int64\n",
      "21                 ind_var13_medio  int64\n",
      "22                       ind_var13  int64\n",
      "23                     ind_var14_0  int64\n",
      "24                       ind_var14  int64\n",
      "25                     ind_var17_0  int64\n",
      "26                       ind_var17  int64\n",
      "27                     ind_var18_0  int64\n",
      "28                       ind_var18  int64\n",
      "29                       ind_var19  int64\n",
      "..                             ...    ...\n",
      "230        num_op_var39_efect_ult1  int64\n",
      "231        num_op_var39_efect_ult3  int64\n",
      "232          num_reemb_var13_hace3  int64\n",
      "233           num_reemb_var13_ult1  int64\n",
      "234          num_reemb_var17_hace3  int64\n",
      "235           num_reemb_var17_ult1  int64\n",
      "236          num_reemb_var33_hace3  int64\n",
      "237           num_reemb_var33_ult1  int64\n",
      "238             num_sal_var16_ult1  int64\n",
      "239            num_var43_emit_ult1  int64\n",
      "240           num_var43_recib_ult1  int64\n",
      "241           num_trasp_var11_ult1  int64\n",
      "242       num_trasp_var17_in_hace3  int64\n",
      "243        num_trasp_var17_in_ult1  int64\n",
      "244      num_trasp_var17_out_hace3  int64\n",
      "245       num_trasp_var17_out_ult1  int64\n",
      "246       num_trasp_var33_in_hace3  int64\n",
      "247        num_trasp_var33_in_ult1  int64\n",
      "248      num_trasp_var33_out_hace3  int64\n",
      "249       num_trasp_var33_out_ult1  int64\n",
      "250          num_venta_var44_hace3  int64\n",
      "251           num_venta_var44_ult1  int64\n",
      "252                num_var45_hace2  int64\n",
      "253                num_var45_hace3  int64\n",
      "254                 num_var45_ult1  int64\n",
      "255                 num_var45_ult3  int64\n",
      "256                saldo_var2_ult1  int64\n",
      "257  saldo_medio_var13_medio_hace3  int64\n",
      "258   saldo_medio_var13_medio_ult1  int64\n",
      "259                         TARGET  int64\n",
      "\n",
      "[260 rows x 2 columns]\n"
     ]
    }
   ],
   "source": [
    "# Criando um objeto com os atributos inteiros do conjunto de dados para verificar a quantidade de valores únicos contidos neles\n",
    "variaveisInt = pd.DataFrame(dadosTreino.dtypes[dadosTreino.dtypes == \"int64\"])\n",
    "variaveisInt.reset_index(level=0, inplace=True)\n",
    "variaveisInt.columns = [\"varNome\", \"Tipo\"]\n",
    "\n",
    "print(\"Lista dos atributos inteiros:\\n\")\n",
    "print(variaveisInt)\n"
   ]
  },
  {
   "cell_type": "code",
   "execution_count": 6,
   "metadata": {
    "colab": {
     "base_uri": "https://localhost:8080/"
    },
    "id": "1T9tTK8sOh2z",
    "outputId": "95713cc6-724d-4449-80e8-8bc1ab5c391b"
   },
   "outputs": [
    {
     "name": "stdout",
     "output_type": "stream",
     "text": [
      "ID\n",
      "76020\n",
      "var3\n",
      "208\n",
      "var15\n",
      "100\n",
      "ind_var1_0\n",
      "2\n",
      "ind_var1\n",
      "2\n",
      "ind_var2_0\n",
      "1\n",
      "ind_var2\n",
      "1\n",
      "ind_var5_0\n",
      "2\n",
      "ind_var5\n",
      "2\n",
      "ind_var6_0\n",
      "2\n",
      "ind_var6\n",
      "2\n",
      "ind_var8_0\n",
      "2\n",
      "ind_var8\n",
      "2\n",
      "ind_var12_0\n",
      "2\n",
      "ind_var12\n",
      "2\n",
      "ind_var13_0\n",
      "2\n",
      "ind_var13_corto_0\n",
      "2\n",
      "ind_var13_corto\n",
      "2\n",
      "ind_var13_largo_0\n",
      "2\n",
      "ind_var13_largo\n",
      "2\n",
      "ind_var13_medio_0\n",
      "2\n",
      "ind_var13_medio\n",
      "2\n",
      "ind_var13\n",
      "2\n",
      "ind_var14_0\n",
      "2\n",
      "ind_var14\n",
      "2\n",
      "ind_var17_0\n",
      "2\n",
      "ind_var17\n",
      "2\n",
      "ind_var18_0\n",
      "2\n",
      "ind_var18\n",
      "2\n",
      "ind_var19\n",
      "2\n",
      "ind_var20_0\n",
      "2\n",
      "ind_var20\n",
      "2\n",
      "ind_var24_0\n",
      "2\n",
      "ind_var24\n",
      "2\n",
      "ind_var25_cte\n",
      "2\n",
      "ind_var26_0\n",
      "2\n",
      "ind_var26_cte\n",
      "2\n",
      "ind_var26\n",
      "2\n",
      "ind_var25_0\n",
      "2\n",
      "ind_var25\n",
      "2\n",
      "ind_var27_0\n",
      "1\n",
      "ind_var28_0\n",
      "1\n",
      "ind_var28\n",
      "1\n",
      "ind_var27\n",
      "1\n",
      "ind_var29_0\n",
      "2\n",
      "ind_var29\n",
      "2\n",
      "ind_var30_0\n",
      "2\n",
      "ind_var30\n",
      "2\n",
      "ind_var31_0\n",
      "2\n",
      "ind_var31\n",
      "2\n",
      "ind_var32_cte\n",
      "2\n",
      "ind_var32_0\n",
      "2\n",
      "ind_var32\n",
      "2\n",
      "ind_var33_0\n",
      "2\n",
      "ind_var33\n",
      "2\n",
      "ind_var34_0\n",
      "2\n",
      "ind_var34\n",
      "2\n",
      "ind_var37_cte\n",
      "2\n",
      "ind_var37_0\n",
      "2\n",
      "ind_var37\n",
      "2\n",
      "ind_var39_0\n",
      "2\n",
      "ind_var40_0\n",
      "2\n",
      "ind_var40\n",
      "2\n",
      "ind_var41_0\n",
      "2\n",
      "ind_var41\n",
      "1\n",
      "ind_var39\n",
      "2\n",
      "ind_var44_0\n",
      "2\n",
      "ind_var44\n",
      "2\n",
      "ind_var46_0\n",
      "1\n",
      "ind_var46\n",
      "1\n",
      "num_var1_0\n",
      "3\n",
      "num_var1\n",
      "3\n",
      "num_var4\n",
      "8\n",
      "num_var5_0\n",
      "5\n",
      "num_var5\n",
      "5\n",
      "num_var6_0\n",
      "2\n",
      "num_var6\n",
      "2\n",
      "num_var8_0\n",
      "3\n",
      "num_var8\n",
      "2\n",
      "num_var12_0\n",
      "6\n",
      "num_var12\n",
      "4\n",
      "num_var13_0\n",
      "7\n",
      "num_var13_corto_0\n",
      "3\n",
      "num_var13_corto\n",
      "3\n",
      "num_var13_largo_0\n",
      "7\n",
      "num_var13_largo\n",
      "7\n",
      "num_var13_medio_0\n",
      "2\n",
      "num_var13_medio\n",
      "2\n",
      "num_var13\n",
      "7\n",
      "num_var14_0\n",
      "5\n",
      "num_var14\n",
      "4\n",
      "num_var17_0\n",
      "11\n",
      "num_var17\n",
      "9\n",
      "num_var18_0\n",
      "2\n",
      "num_var18\n",
      "2\n",
      "num_var20_0\n",
      "2\n",
      "num_var20\n",
      "2\n",
      "num_var24_0\n",
      "4\n",
      "num_var24\n",
      "3\n",
      "num_var26_0\n",
      "9\n",
      "num_var26\n",
      "9\n",
      "num_var25_0\n",
      "9\n",
      "num_var25\n",
      "9\n",
      "num_op_var40_hace2\n",
      "19\n",
      "num_op_var40_hace3\n",
      "5\n",
      "num_op_var40_ult1\n",
      "30\n",
      "num_op_var40_ult3\n",
      "35\n",
      "num_op_var41_hace2\n",
      "51\n",
      "num_op_var41_hace3\n",
      "22\n",
      "num_op_var41_ult1\n",
      "68\n",
      "num_op_var41_ult3\n",
      "96\n",
      "num_op_var39_hace2\n",
      "50\n",
      "num_op_var39_hace3\n",
      "22\n",
      "num_op_var39_ult1\n",
      "71\n",
      "num_op_var39_ult3\n",
      "99\n",
      "num_var27_0\n",
      "1\n",
      "num_var28_0\n",
      "1\n",
      "num_var28\n",
      "1\n",
      "num_var27\n",
      "1\n",
      "num_var29_0\n",
      "2\n",
      "num_var29\n",
      "2\n",
      "num_var30_0\n",
      "11\n",
      "num_var30\n",
      "9\n",
      "num_var31_0\n",
      "11\n",
      "num_var31\n",
      "9\n",
      "num_var32_0\n",
      "5\n",
      "num_var32\n",
      "5\n",
      "num_var33_0\n",
      "4\n",
      "num_var33\n",
      "3\n",
      "num_var34_0\n",
      "2\n",
      "num_var34\n",
      "2\n",
      "num_var35\n",
      "13\n",
      "num_var37_med_ult2\n",
      "21\n",
      "num_var37_0\n",
      "22\n",
      "num_var37\n",
      "22\n",
      "num_var39_0\n",
      "9\n",
      "num_var40_0\n",
      "3\n",
      "num_var40\n",
      "2\n",
      "num_var41_0\n",
      "9\n",
      "num_var41\n",
      "1\n",
      "num_var39\n",
      "2\n",
      "num_var42_0\n",
      "8\n",
      "num_var42\n",
      "7\n",
      "num_var44_0\n",
      "3\n",
      "num_var44\n",
      "2\n",
      "num_var46_0\n",
      "1\n",
      "num_var46\n",
      "1\n",
      "saldo_var13_medio\n",
      "3\n",
      "saldo_var18\n",
      "3\n",
      "saldo_var28\n",
      "1\n",
      "saldo_var27\n",
      "1\n",
      "saldo_var34\n",
      "3\n",
      "saldo_var41\n",
      "1\n",
      "saldo_var46\n",
      "1\n",
      "var36\n",
      "5\n",
      "delta_imp_amort_var18_1y3\n",
      "2\n",
      "delta_imp_amort_var34_1y3\n",
      "2\n",
      "delta_imp_reemb_var13_1y3\n",
      "2\n",
      "delta_imp_reemb_var17_1y3\n",
      "3\n",
      "delta_imp_reemb_var33_1y3\n",
      "2\n",
      "delta_imp_trasp_var17_in_1y3\n",
      "3\n",
      "delta_imp_trasp_var17_out_1y3\n",
      "2\n",
      "delta_imp_trasp_var33_in_1y3\n",
      "3\n",
      "delta_imp_trasp_var33_out_1y3\n",
      "2\n",
      "delta_num_reemb_var13_1y3\n",
      "2\n",
      "delta_num_reemb_var17_1y3\n",
      "3\n",
      "delta_num_reemb_var33_1y3\n",
      "2\n",
      "delta_num_trasp_var17_in_1y3\n",
      "3\n",
      "delta_num_trasp_var17_out_1y3\n",
      "2\n",
      "delta_num_trasp_var33_in_1y3\n",
      "3\n",
      "delta_num_trasp_var33_out_1y3\n",
      "2\n",
      "imp_amort_var18_hace3\n",
      "1\n",
      "imp_amort_var34_hace3\n",
      "1\n",
      "imp_aport_var33_hace3\n",
      "16\n",
      "imp_aport_var33_ult1\n",
      "6\n",
      "imp_reemb_var13_hace3\n",
      "1\n",
      "imp_reemb_var33_hace3\n",
      "1\n",
      "imp_reemb_var33_ult1\n",
      "2\n",
      "imp_trasp_var17_out_hace3\n",
      "1\n",
      "imp_trasp_var33_out_hace3\n",
      "1\n",
      "imp_trasp_var33_out_ult1\n",
      "2\n",
      "ind_var7_emit_ult1\n",
      "2\n",
      "ind_var7_recib_ult1\n",
      "2\n",
      "ind_var10_ult1\n",
      "2\n",
      "ind_var10cte_ult1\n",
      "2\n",
      "ind_var9_cte_ult1\n",
      "2\n",
      "ind_var9_ult1\n",
      "2\n",
      "ind_var43_emit_ult1\n",
      "2\n",
      "ind_var43_recib_ult1\n",
      "2\n",
      "var21\n",
      "24\n",
      "num_var2_0_ult1\n",
      "1\n",
      "num_var2_ult1\n",
      "1\n",
      "num_aport_var13_hace3\n",
      "8\n",
      "num_aport_var13_ult1\n",
      "7\n",
      "num_aport_var17_hace3\n",
      "5\n",
      "num_aport_var17_ult1\n",
      "8\n",
      "num_aport_var33_hace3\n",
      "4\n",
      "num_aport_var33_ult1\n",
      "3\n",
      "num_var7_emit_ult1\n",
      "2\n",
      "num_var7_recib_ult1\n",
      "6\n",
      "num_compra_var44_hace3\n",
      "4\n",
      "num_compra_var44_ult1\n",
      "10\n",
      "num_ent_var16_ult1\n",
      "13\n",
      "num_var22_hace2\n",
      "22\n",
      "num_var22_hace3\n",
      "19\n",
      "num_var22_ult1\n",
      "18\n",
      "num_var22_ult3\n",
      "33\n",
      "num_med_var22_ult3\n",
      "15\n",
      "num_med_var45_ult3\n",
      "71\n",
      "num_meses_var5_ult3\n",
      "4\n",
      "num_meses_var8_ult3\n",
      "4\n",
      "num_meses_var12_ult3\n",
      "4\n",
      "num_meses_var13_corto_ult3\n",
      "4\n",
      "num_meses_var13_largo_ult3\n",
      "4\n",
      "num_meses_var13_medio_ult3\n",
      "2\n",
      "num_meses_var17_ult3\n",
      "4\n",
      "num_meses_var29_ult3\n",
      "3\n",
      "num_meses_var33_ult3\n",
      "4\n",
      "num_meses_var39_vig_ult3\n",
      "4\n",
      "num_meses_var44_ult3\n",
      "4\n",
      "num_op_var39_comer_ult1\n",
      "63\n",
      "num_op_var39_comer_ult3\n",
      "92\n",
      "num_op_var40_comer_ult1\n",
      "34\n",
      "num_op_var40_comer_ult3\n",
      "47\n",
      "num_op_var40_efect_ult1\n",
      "7\n",
      "num_op_var40_efect_ult3\n",
      "9\n",
      "num_op_var41_comer_ult1\n",
      "60\n",
      "num_op_var41_comer_ult3\n",
      "88\n",
      "num_op_var41_efect_ult1\n",
      "25\n",
      "num_op_var41_efect_ult3\n",
      "40\n",
      "num_op_var39_efect_ult1\n",
      "26\n",
      "num_op_var39_efect_ult3\n",
      "40\n",
      "num_reemb_var13_hace3\n",
      "1\n",
      "num_reemb_var13_ult1\n",
      "2\n",
      "num_reemb_var17_hace3\n",
      "2\n",
      "num_reemb_var17_ult1\n",
      "5\n",
      "num_reemb_var33_hace3\n",
      "1\n",
      "num_reemb_var33_ult1\n",
      "2\n",
      "num_sal_var16_ult1\n",
      "6\n",
      "num_var43_emit_ult1\n",
      "27\n",
      "num_var43_recib_ult1\n",
      "38\n",
      "num_trasp_var11_ult1\n",
      "18\n",
      "num_trasp_var17_in_hace3\n",
      "3\n",
      "num_trasp_var17_in_ult1\n",
      "2\n",
      "num_trasp_var17_out_hace3\n",
      "1\n",
      "num_trasp_var17_out_ult1\n",
      "2\n",
      "num_trasp_var33_in_hace3\n",
      "2\n",
      "num_trasp_var33_in_ult1\n",
      "3\n",
      "num_trasp_var33_out_hace3\n",
      "1\n",
      "num_trasp_var33_out_ult1\n",
      "2\n",
      "num_venta_var44_hace3\n",
      "3\n",
      "num_venta_var44_ult1\n",
      "9\n",
      "num_var45_hace2\n",
      "85\n",
      "num_var45_hace3\n",
      "66\n",
      "num_var45_ult1\n",
      "94\n",
      "num_var45_ult3\n",
      "172\n",
      "saldo_var2_ult1\n",
      "1\n",
      "saldo_medio_var13_medio_hace3\n",
      "1\n",
      "saldo_medio_var13_medio_ult1\n",
      "3\n",
      "TARGET\n",
      "2\n"
     ]
    }
   ],
   "source": [
    "# Imprimindo o a quantidade de valores unicos de cada atributo no conjunto de dados\n",
    "for i in variaveisInt[\"varNome\"]:\n",
    "    print(i)\n",
    "    print(len(np.unique(dadosTreino[i])))\n",
    "    "
   ]
  },
  {
   "cell_type": "markdown",
   "metadata": {
    "id": "mp0O5t88uIsd"
   },
   "source": [
    "<p align=\"justify\">Podemos observar que a maioria dos atributos inteiros possuem até no máximo 15 valores únicos. Alguns poucos vão até o valor de 100 valores únicos. E apenas dois atributos com mais de 100 valores únicos, já que ID é um atributo de identificação e não faria sentido ter poucos valores únicos. Levando em consideração essas quantidades de valores únicos, podemos aceitar a hipótese de que esses atributos do tipo inteiro são representações númericas de valores categóricos. Portanto, se faz necessário apagar o atributo ID, para que não seja produzido nenhum tipo de vies durante a aprendizagem de máquina<br>"
   ]
  },
  {
   "cell_type": "code",
   "execution_count": 7,
   "metadata": {
    "id": "fANuvMQUzQ0H"
   },
   "outputs": [],
   "source": [
    "dadosTreino = dadosTreino.drop('ID', axis=1)"
   ]
  },
  {
   "cell_type": "markdown",
   "metadata": {
    "id": "Rew7JFG-ftjE"
   },
   "source": [
    "<p align=\"justify\"><h2>1.2. Análise da variável target</h2></p>"
   ]
  },
  {
   "cell_type": "markdown",
   "metadata": {
    "id": "Rp3quQIQfIB0"
   },
   "source": [
    "<p align=\"justify\">Conseguimos ver que a variável target tem apenas dois valores, caracterizando uma situação de classificação. O fato de termos apenas duas classes se torna óbvio pelo fato do cliente está satisfeito ou não com a instituilção, e é justamente isso que precisamos predizer. É importante avaliar a proporção dos valores na variável target para que ela não esteja desbalanceada e prejudique o treinamento do algoritmo posteriormente.</p>"
   ]
  },
  {
   "cell_type": "code",
   "execution_count": 8,
   "metadata": {
    "colab": {
     "base_uri": "https://localhost:8080/",
     "height": 650
    },
    "id": "QzBMmxFnuIsd",
    "outputId": "4683cd88-e2a3-44d8-d944-56c066792de9"
   },
   "outputs": [
    {
     "name": "stdout",
     "output_type": "stream",
     "text": [
      "Valores absolutos dos valores da variável target:\n",
      "0    73012\n",
      "1     3008\n",
      "Name: TARGET, dtype: int64\n",
      "\n",
      "\n",
      "Porcentagem de valores do tipo 0:\n",
      "96.04\n",
      "\n",
      "\n",
      "Porcentagem de valores do tipo 1:\n",
      "3.96\n",
      "\n",
      "\n"
     ]
    },
    {
     "data": {
      "image/png": "[encoded data removed]",
      "text/plain": [
       "<Figure size 576x432 with 1 Axes>"
      ]
     },
     "metadata": {
      "needs_background": "light"
     },
     "output_type": "display_data"
    }
   ],
   "source": [
    "# Verificando desbalanceamento dos dados da variável target\n",
    "bal = pd.Series(dadosTreino.TARGET).value_counts()\n",
    "\n",
    "print(\"Valores absolutos dos valores da variável target:\")\n",
    "print(bal)\n",
    "print(\"\\n\")\n",
    "print(\"Porcentagem de valores do tipo 0:\")\n",
    "zero_target = bal[0] / (bal[0] + bal[1]) * 100\n",
    "print(zero_target.round(2))\n",
    "print(\"\\n\")\n",
    "print(\"Porcentagem de valores do tipo 1:\")\n",
    "um_target = bal[1] / (bal[0] + bal[1]) * 100\n",
    "print(um_target.round(2))\n",
    "print(\"\\n\")\n",
    "\n",
    "# Plot para uma melhor visualização da composição dos valores do atributo target\n",
    "plt.figure(figsize = (8,6))\n",
    "bal.plot(kind=\"bar\")\n",
    "plt.title(\"Variável Target\")\n",
    "plt.xlabel(\"Valor Categórico\")\n",
    "plt.ylabel(\"Quantidade por categoria\")\n",
    "plt.show()\n",
    "\n"
   ]
  },
  {
   "cell_type": "markdown",
   "metadata": {
    "id": "VtmrZS8tV-iF"
   },
   "source": [
    "<p align=\"justify\">É evidente o desbalanceamento do atributo target no conjunto de dados train. Posteriormente será necessário realizar um tratamento para balancear as categorias do atributo, e assim poder realizar um treinamento de aprendizagem de máquina sem nenhum tipo de vies (bias) no algoritmo.<br>Porém antes disso vamos verificar outros aspectos como valores nulos contidos no conjunto de dados, como também observações que possam ter sido geradas de forma repetida, pois podem causar distorções desnecessárias no apredizado de máquina.</p>"
   ]
  },
  {
   "cell_type": "code",
   "execution_count": 9,
   "metadata": {
    "colab": {
     "base_uri": "https://localhost:8080/"
    },
    "id": "6ySiOmJuNB0H",
    "outputId": "02ab432f-7f25-4dae-898e-3c541301d355"
   },
   "outputs": [
    {
     "name": "stdout",
     "output_type": "stream",
     "text": [
      "Null values: 0\n",
      "NA values: 0\n"
     ]
    }
   ],
   "source": [
    "print('Null values:', dadosTreino.isnull().sum().sum())\n",
    "print('NA values:', dadosTreino.isna().sum().sum())"
   ]
  },
  {
   "cell_type": "markdown",
   "metadata": {
    "id": "oJdMMXoQNB0I"
   },
   "source": [
    "<p align=\"justify\">Não há valores nulos do conjunto de dados que estamos trabalhando. Provavelmente esses dados já foram tratados pelo Santander com o intuito de agilizar a produção do modelo pretendido por eles.</p>"
   ]
  },
  {
   "cell_type": "code",
   "execution_count": 10,
   "metadata": {
    "colab": {
     "base_uri": "https://localhost:8080/"
    },
    "id": "vwx_fSdCNB0I",
    "outputId": "cfcbefdd-076e-45e5-b338-409087d010a5"
   },
   "outputs": [
    {
     "name": "stdout",
     "output_type": "stream",
     "text": [
      "Duplicated rows: 4807\n"
     ]
    }
   ],
   "source": [
    "print('Duplicated rows:', dadosTreino.duplicated().sum())"
   ]
  },
  {
   "cell_type": "markdown",
   "metadata": {
    "id": "77L_n4XCNB0J"
   },
   "source": [
    "<p align=\"justify\">Após a exclusão do atributo ID, temos no nosso dataset 4807 observações duplicadas. Essas observações são prejudiciais ao treinamento do modelo de machine learning, então a melhor decisão é excluí-las do dataset</p>"
   ]
  },
  {
   "cell_type": "code",
   "execution_count": 11,
   "metadata": {
    "colab": {
     "base_uri": "https://localhost:8080/"
    },
    "id": "fq_R2hjGfWmy",
    "outputId": "7737119f-7acc-4061-e206-84c952735803"
   },
   "outputs": [
    {
     "data": {
      "text/plain": [
       "(71213, 370)"
      ]
     },
     "execution_count": 11,
     "metadata": {},
     "output_type": "execute_result"
    }
   ],
   "source": [
    "dadosTreino = dadosTreino.drop_duplicates()\n",
    "dadosTreino.shape"
   ]
  },
  {
   "cell_type": "markdown",
   "metadata": {
    "id": "PXZL4TSZicx9"
   },
   "source": [
    "<p align=\"justify\"><h2>1.3. Comportamento estatísticos dos atributos float</h2></p>"
   ]
  },
  {
   "cell_type": "markdown",
   "metadata": {
    "id": "WxxW5olrf7y2"
   },
   "source": [
    "<p align=\"justify\">Veremos que os atributos do tipo float estão em uma quantidade de 111, o que é demasiado grande para tentar explorar de forma gráfica, com histogramas e scatterplots e também difícil de visualizar a correlação com entre os atributos, isso demandaria um poder computacional extraordinário, portanto como condutor do processo de análise e exploração dos dados, vamos apenas observar os dados estatísticos disponibilizados pela função \"describe\".</p>"
   ]
  },
  {
   "cell_type": "code",
   "execution_count": 12,
   "metadata": {
    "colab": {
     "base_uri": "https://localhost:8080/",
     "height": 430
    },
    "id": "JTGLTau0ilHL",
    "outputId": "e0370c42-00d1-49a6-f180-d4180fbaecf5"
   },
   "outputs": [
    {
     "name": "stdout",
     "output_type": "stream",
     "text": [
      "Quantidade dos atributos float: 111\n",
      "\n",
      "\n",
      "Algumas estatísticas dos atributos float:\n"
     ]
    },
    {
     "data": {
      "text/html": [
       "<div>\n",
       "<style scoped>\n",
       "    .dataframe tbody tr th:only-of-type {\n",
       "        vertical-align: middle;\n",
       "    }\n",
       "\n",
       "    .dataframe tbody tr th {\n",
       "        vertical-align: top;\n",
       "    }\n",
       "\n",
       "    .dataframe thead th {\n",
       "        text-align: right;\n",
       "    }\n",
       "</style>\n",
       "<table border=\"1\" class=\"dataframe\">\n",
       "  <thead>\n",
       "    <tr style=\"text-align: right;\">\n",
       "      <th></th>\n",
       "      <th>imp_ent_var16_ult1</th>\n",
       "      <th>imp_op_var39_comer_ult1</th>\n",
       "      <th>imp_op_var39_comer_ult3</th>\n",
       "      <th>imp_op_var40_comer_ult1</th>\n",
       "      <th>imp_op_var40_comer_ult3</th>\n",
       "      <th>imp_op_var40_efect_ult1</th>\n",
       "      <th>imp_op_var40_efect_ult3</th>\n",
       "      <th>imp_op_var40_ult1</th>\n",
       "      <th>imp_op_var41_comer_ult1</th>\n",
       "      <th>imp_op_var41_comer_ult3</th>\n",
       "      <th>...</th>\n",
       "      <th>saldo_medio_var29_ult3</th>\n",
       "      <th>saldo_medio_var33_hace2</th>\n",
       "      <th>saldo_medio_var33_hace3</th>\n",
       "      <th>saldo_medio_var33_ult1</th>\n",
       "      <th>saldo_medio_var33_ult3</th>\n",
       "      <th>saldo_medio_var44_hace2</th>\n",
       "      <th>saldo_medio_var44_hace3</th>\n",
       "      <th>saldo_medio_var44_ult1</th>\n",
       "      <th>saldo_medio_var44_ult3</th>\n",
       "      <th>var38</th>\n",
       "    </tr>\n",
       "  </thead>\n",
       "  <tbody>\n",
       "    <tr>\n",
       "      <th>count</th>\n",
       "      <td>71213.000000</td>\n",
       "      <td>71213.000000</td>\n",
       "      <td>71213.000000</td>\n",
       "      <td>71213.000000</td>\n",
       "      <td>71213.000000</td>\n",
       "      <td>71213.000000</td>\n",
       "      <td>71213.000000</td>\n",
       "      <td>71213.000000</td>\n",
       "      <td>71213.000000</td>\n",
       "      <td>71213.000000</td>\n",
       "      <td>...</td>\n",
       "      <td>71213.000000</td>\n",
       "      <td>71213.000000</td>\n",
       "      <td>71213.000000</td>\n",
       "      <td>71213.000000</td>\n",
       "      <td>71213.000000</td>\n",
       "      <td>71213.000000</td>\n",
       "      <td>71213.000000</td>\n",
       "      <td>71213.000000</td>\n",
       "      <td>71213.000000</td>\n",
       "      <td>7.121300e+04</td>\n",
       "    </tr>\n",
       "    <tr>\n",
       "      <th>mean</th>\n",
       "      <td>92.027471</td>\n",
       "      <td>77.247699</td>\n",
       "      <td>127.598088</td>\n",
       "      <td>3.799377</td>\n",
       "      <td>6.909616</td>\n",
       "      <td>0.440821</td>\n",
       "      <td>0.605650</td>\n",
       "      <td>3.374069</td>\n",
       "      <td>73.448321</td>\n",
       "      <td>120.688472</td>\n",
       "      <td>...</td>\n",
       "      <td>0.199228</td>\n",
       "      <td>8.471506</td>\n",
       "      <td>1.457296</td>\n",
       "      <td>13.040152</td>\n",
       "      <td>9.377014</td>\n",
       "      <td>33.631988</td>\n",
       "      <td>1.984032</td>\n",
       "      <td>81.158062</td>\n",
       "      <td>60.435917</td>\n",
       "      <td>1.171341e+05</td>\n",
       "    </tr>\n",
       "    <tr>\n",
       "      <th>std</th>\n",
       "      <td>1668.207086</td>\n",
       "      <td>350.042621</td>\n",
       "      <td>563.489653</td>\n",
       "      <td>96.243797</td>\n",
       "      <td>158.831665</td>\n",
       "      <td>31.620757</td>\n",
       "      <td>37.725462</td>\n",
       "      <td>98.427472</td>\n",
       "      <td>329.699561</td>\n",
       "      <td>528.287454</td>\n",
       "      <td>...</td>\n",
       "      <td>32.937783</td>\n",
       "      <td>471.017951</td>\n",
       "      <td>117.742551</td>\n",
       "      <td>809.203403</td>\n",
       "      <td>556.310507</td>\n",
       "      <td>2079.944379</td>\n",
       "      <td>152.692314</td>\n",
       "      <td>4174.428008</td>\n",
       "      <td>2947.246442</td>\n",
       "      <td>1.882276e+05</td>\n",
       "    </tr>\n",
       "    <tr>\n",
       "      <th>min</th>\n",
       "      <td>0.000000</td>\n",
       "      <td>0.000000</td>\n",
       "      <td>0.000000</td>\n",
       "      <td>0.000000</td>\n",
       "      <td>0.000000</td>\n",
       "      <td>0.000000</td>\n",
       "      <td>0.000000</td>\n",
       "      <td>0.000000</td>\n",
       "      <td>0.000000</td>\n",
       "      <td>0.000000</td>\n",
       "      <td>...</td>\n",
       "      <td>0.000000</td>\n",
       "      <td>0.000000</td>\n",
       "      <td>0.000000</td>\n",
       "      <td>0.000000</td>\n",
       "      <td>0.000000</td>\n",
       "      <td>0.000000</td>\n",
       "      <td>0.000000</td>\n",
       "      <td>0.000000</td>\n",
       "      <td>0.000000</td>\n",
       "      <td>5.163750e+03</td>\n",
       "    </tr>\n",
       "    <tr>\n",
       "      <th>25%</th>\n",
       "      <td>0.000000</td>\n",
       "      <td>0.000000</td>\n",
       "      <td>0.000000</td>\n",
       "      <td>0.000000</td>\n",
       "      <td>0.000000</td>\n",
       "      <td>0.000000</td>\n",
       "      <td>0.000000</td>\n",
       "      <td>0.000000</td>\n",
       "      <td>0.000000</td>\n",
       "      <td>0.000000</td>\n",
       "      <td>...</td>\n",
       "      <td>0.000000</td>\n",
       "      <td>0.000000</td>\n",
       "      <td>0.000000</td>\n",
       "      <td>0.000000</td>\n",
       "      <td>0.000000</td>\n",
       "      <td>0.000000</td>\n",
       "      <td>0.000000</td>\n",
       "      <td>0.000000</td>\n",
       "      <td>0.000000</td>\n",
       "      <td>6.587463e+04</td>\n",
       "    </tr>\n",
       "    <tr>\n",
       "      <th>50%</th>\n",
       "      <td>0.000000</td>\n",
       "      <td>0.000000</td>\n",
       "      <td>0.000000</td>\n",
       "      <td>0.000000</td>\n",
       "      <td>0.000000</td>\n",
       "      <td>0.000000</td>\n",
       "      <td>0.000000</td>\n",
       "      <td>0.000000</td>\n",
       "      <td>0.000000</td>\n",
       "      <td>0.000000</td>\n",
       "      <td>...</td>\n",
       "      <td>0.000000</td>\n",
       "      <td>0.000000</td>\n",
       "      <td>0.000000</td>\n",
       "      <td>0.000000</td>\n",
       "      <td>0.000000</td>\n",
       "      <td>0.000000</td>\n",
       "      <td>0.000000</td>\n",
       "      <td>0.000000</td>\n",
       "      <td>0.000000</td>\n",
       "      <td>1.002062e+05</td>\n",
       "    </tr>\n",
       "    <tr>\n",
       "      <th>75%</th>\n",
       "      <td>0.000000</td>\n",
       "      <td>0.000000</td>\n",
       "      <td>0.000000</td>\n",
       "      <td>0.000000</td>\n",
       "      <td>0.000000</td>\n",
       "      <td>0.000000</td>\n",
       "      <td>0.000000</td>\n",
       "      <td>0.000000</td>\n",
       "      <td>0.000000</td>\n",
       "      <td>0.000000</td>\n",
       "      <td>...</td>\n",
       "      <td>0.000000</td>\n",
       "      <td>0.000000</td>\n",
       "      <td>0.000000</td>\n",
       "      <td>0.000000</td>\n",
       "      <td>0.000000</td>\n",
       "      <td>0.000000</td>\n",
       "      <td>0.000000</td>\n",
       "      <td>0.000000</td>\n",
       "      <td>0.000000</td>\n",
       "      <td>1.228152e+05</td>\n",
       "    </tr>\n",
       "    <tr>\n",
       "      <th>max</th>\n",
       "      <td>210000.000000</td>\n",
       "      <td>12888.030000</td>\n",
       "      <td>21024.810000</td>\n",
       "      <td>8237.820000</td>\n",
       "      <td>11073.570000</td>\n",
       "      <td>6600.000000</td>\n",
       "      <td>6600.000000</td>\n",
       "      <td>8237.820000</td>\n",
       "      <td>12888.030000</td>\n",
       "      <td>16566.810000</td>\n",
       "      <td>...</td>\n",
       "      <td>7331.340000</td>\n",
       "      <td>50003.880000</td>\n",
       "      <td>20385.720000</td>\n",
       "      <td>138831.630000</td>\n",
       "      <td>91778.730000</td>\n",
       "      <td>438329.220000</td>\n",
       "      <td>24650.010000</td>\n",
       "      <td>681462.900000</td>\n",
       "      <td>397884.300000</td>\n",
       "      <td>2.203474e+07</td>\n",
       "    </tr>\n",
       "  </tbody>\n",
       "</table>\n",
       "<p>8 rows × 111 columns</p>\n",
       "</div>"
      ],
      "text/plain": [
       "       imp_ent_var16_ult1  imp_op_var39_comer_ult1  imp_op_var39_comer_ult3  \\\n",
       "count        71213.000000             71213.000000             71213.000000   \n",
       "mean            92.027471                77.247699               127.598088   \n",
       "std           1668.207086               350.042621               563.489653   \n",
       "min              0.000000                 0.000000                 0.000000   \n",
       "25%              0.000000                 0.000000                 0.000000   \n",
       "50%              0.000000                 0.000000                 0.000000   \n",
       "75%              0.000000                 0.000000                 0.000000   \n",
       "max         210000.000000             12888.030000             21024.810000   \n",
       "\n",
       "       imp_op_var40_comer_ult1  imp_op_var40_comer_ult3  \\\n",
       "count             71213.000000             71213.000000   \n",
       "mean                  3.799377                 6.909616   \n",
       "std                  96.243797               158.831665   \n",
       "min                   0.000000                 0.000000   \n",
       "25%                   0.000000                 0.000000   \n",
       "50%                   0.000000                 0.000000   \n",
       "75%                   0.000000                 0.000000   \n",
       "max                8237.820000             11073.570000   \n",
       "\n",
       "       imp_op_var40_efect_ult1  imp_op_var40_efect_ult3  imp_op_var40_ult1  \\\n",
       "count             71213.000000             71213.000000       71213.000000   \n",
       "mean                  0.440821                 0.605650           3.374069   \n",
       "std                  31.620757                37.725462          98.427472   \n",
       "min                   0.000000                 0.000000           0.000000   \n",
       "25%                   0.000000                 0.000000           0.000000   \n",
       "50%                   0.000000                 0.000000           0.000000   \n",
       "75%                   0.000000                 0.000000           0.000000   \n",
       "max                6600.000000              6600.000000        8237.820000   \n",
       "\n",
       "       imp_op_var41_comer_ult1  imp_op_var41_comer_ult3  ...  \\\n",
       "count             71213.000000             71213.000000  ...   \n",
       "mean                 73.448321               120.688472  ...   \n",
       "std                 329.699561               528.287454  ...   \n",
       "min                   0.000000                 0.000000  ...   \n",
       "25%                   0.000000                 0.000000  ...   \n",
       "50%                   0.000000                 0.000000  ...   \n",
       "75%                   0.000000                 0.000000  ...   \n",
       "max               12888.030000             16566.810000  ...   \n",
       "\n",
       "       saldo_medio_var29_ult3  saldo_medio_var33_hace2  \\\n",
       "count            71213.000000             71213.000000   \n",
       "mean                 0.199228                 8.471506   \n",
       "std                 32.937783               471.017951   \n",
       "min                  0.000000                 0.000000   \n",
       "25%                  0.000000                 0.000000   \n",
       "50%                  0.000000                 0.000000   \n",
       "75%                  0.000000                 0.000000   \n",
       "max               7331.340000             50003.880000   \n",
       "\n",
       "       saldo_medio_var33_hace3  saldo_medio_var33_ult1  \\\n",
       "count             71213.000000            71213.000000   \n",
       "mean                  1.457296               13.040152   \n",
       "std                 117.742551              809.203403   \n",
       "min                   0.000000                0.000000   \n",
       "25%                   0.000000                0.000000   \n",
       "50%                   0.000000                0.000000   \n",
       "75%                   0.000000                0.000000   \n",
       "max               20385.720000           138831.630000   \n",
       "\n",
       "       saldo_medio_var33_ult3  saldo_medio_var44_hace2  \\\n",
       "count            71213.000000             71213.000000   \n",
       "mean                 9.377014                33.631988   \n",
       "std                556.310507              2079.944379   \n",
       "min                  0.000000                 0.000000   \n",
       "25%                  0.000000                 0.000000   \n",
       "50%                  0.000000                 0.000000   \n",
       "75%                  0.000000                 0.000000   \n",
       "max              91778.730000            438329.220000   \n",
       "\n",
       "       saldo_medio_var44_hace3  saldo_medio_var44_ult1  \\\n",
       "count             71213.000000            71213.000000   \n",
       "mean                  1.984032               81.158062   \n",
       "std                 152.692314             4174.428008   \n",
       "min                   0.000000                0.000000   \n",
       "25%                   0.000000                0.000000   \n",
       "50%                   0.000000                0.000000   \n",
       "75%                   0.000000                0.000000   \n",
       "max               24650.010000           681462.900000   \n",
       "\n",
       "       saldo_medio_var44_ult3         var38  \n",
       "count            71213.000000  7.121300e+04  \n",
       "mean                60.435917  1.171341e+05  \n",
       "std               2947.246442  1.882276e+05  \n",
       "min                  0.000000  5.163750e+03  \n",
       "25%                  0.000000  6.587463e+04  \n",
       "50%                  0.000000  1.002062e+05  \n",
       "75%                  0.000000  1.228152e+05  \n",
       "max             397884.300000  2.203474e+07  \n",
       "\n",
       "[8 rows x 111 columns]"
      ]
     },
     "execution_count": 12,
     "metadata": {},
     "output_type": "execute_result"
    }
   ],
   "source": [
    "# Separando os atributos float em um dataframe para uma rápida visialização de algumas estatísticas desses atibutos\n",
    "variaveisFloat = pd.DataFrame(dadosTreino.dtypes[dadosTreino.dtypes == \"float64\"])\n",
    "variaveisFloat.reset_index(level=0, inplace=True)\n",
    "variaveisFloat.columns = [\"varNome\", \"Tipo\"]\n",
    "print(\"Quantidade dos atributos float:\", (len(variaveisFloat)))\n",
    "print(\"\\n\")\n",
    "\n",
    "print(\"Algumas estatísticas dos atributos float:\")\n",
    "dadosTreino[variaveisFloat.varNome].describe()\n"
   ]
  },
  {
   "cell_type": "markdown",
   "metadata": {
    "id": "6JagEHwrv1_B"
   },
   "source": [
    "<p align=\"justify\">A maioria dos atributos possuem o valor da mediana menor que o valor da média, no caso também é importante observar qur a mediana e o 3º quartil tem o valor de zero, nos levando ao entendimento de que os atributos possuem uma assimetria negativa, onde então os valores se agrupam do lado direito do histograma.<br>Também é importante destacar que há uma dispersão muito grande nos valores, percebidos quando comparamos os valores das médias com os valores dos desvios padrão dos atributos. Muitas das vezes o desvio padrão está muito distante da média.</p>"
   ]
  },
  {
   "cell_type": "markdown",
   "metadata": {
    "id": "D6kgkIeKNB0K"
   },
   "source": [
    "<p align=\"justify\"><h1>2. Preparação para o algoritmo de aprendizagem de máquina</h1></p>\n"
   ]
  },
  {
   "cell_type": "markdown",
   "metadata": {
    "id": "LlJRjLgVA9Vp"
   },
   "source": [
    "<p align=\"justify\"><h2>2.1. Divisão do dados de treino e teste</h2></p>"
   ]
  },
  {
   "cell_type": "markdown",
   "metadata": {
    "id": "96giGeauDG9E"
   },
   "source": [
    "<p align=\"justify\">Naturalmente, é necessário a divisão dos dados de treino e teste, que de certa forma já foi feita pela instituição que forneceu os dados para o projeto. Dessa forma será apenas necessário adequar à forma como a lingaugem python trabalha. Para isso vamos criar algumas variáveis como y_treino, onde serão alocados os valores da variável target. Também criaremos a variável x_treino, na qual deletaremos o atributo target e criaremos a x_teste, que será um dataframe onde faremos a leitura do arquivo disponibilizado com os dados de teste.</p>"
   ]
  },
  {
   "cell_type": "code",
   "execution_count": 13,
   "metadata": {
    "colab": {
     "base_uri": "https://localhost:8080/"
    },
    "id": "aVV6YWn2NB0K",
    "outputId": "961cf27c-ad51-48a2-f60f-fcb73dc6bd1d"
   },
   "outputs": [
    {
     "name": "stdout",
     "output_type": "stream",
     "text": [
      "Treino: (49849, 369)\n",
      "Teste (21364, 369)\n",
      "Submissão: (75818, 369)\n"
     ]
    },
    {
     "name": "stderr",
     "output_type": "stream",
     "text": [
      "C:\\Users\\thale\\Anaconda3\\lib\\site-packages\\ipykernel_launcher.py:26: FutureWarning: The signature of `Series.to_csv` was aligned to that of `DataFrame.to_csv`, and argument 'header' will change its default value from False to True: please pass an explicit value to suppress this warning.\n",
      "C:\\Users\\thale\\Anaconda3\\lib\\site-packages\\ipykernel_launcher.py:27: FutureWarning: The signature of `Series.to_csv` was aligned to that of `DataFrame.to_csv`, and argument 'header' will change its default value from False to True: please pass an explicit value to suppress this warning.\n"
     ]
    }
   ],
   "source": [
    "from sklearn.model_selection import train_test_split\n",
    "\n",
    "# Divisão dos dados para treinamento e validação do modelo criado\n",
    "X_train = dadosTreino.drop('TARGET', axis=1)\n",
    "Y_train = dadosTreino.TARGET\n",
    "\n",
    "seed = 10\n",
    "size = 0.3\n",
    "\n",
    "x_train, x_test, y_train, y_test = train_test_split(X_train, Y_train, test_size = size, random_state = seed)\n",
    "\n",
    "# Leitura do conjunto de dados de submissão para avaliaçao do modelo criado\n",
    "x_submission = pd.read_csv(\"test.csv\")\n",
    "x_submission = x_submission.drop('ID', axis=1)\n",
    "y_submission = pd.read_csv(\"sample_submission.csv\")\n",
    "y_submission = y_submission.TARGET\n",
    "\n",
    "# Visualizando as dimensões dos dados dividos\n",
    "print('Treino:', x_train.shape) \n",
    "print('Teste', x_test.shape)\n",
    "print('Submissão:', x_submission.shape)\n",
    "\n",
    "# Salvando o progresso feito até agora com o tratamento dos dados\n",
    "x_train.to_csv(\"x_train.csv\")\n",
    "x_test.to_csv(\"x_test.csv\")\n",
    "y_train.to_csv(\"y_train.csv\")\n",
    "y_test.to_csv(\"y_test.csv\")"
   ]
  },
  {
   "cell_type": "markdown",
   "metadata": {
    "id": "6oGFbfS8GivX"
   },
   "source": [
    "<p align=\"justify\">O dataset com as informações para fazer a submissão posteriormente tem aproximadamente as mesmas dimensões do dataset de treino, que foi divido entre treino e teste, sendo um pouco menor em aproximadamente 1000 observações. Aproveitamos e guardamos esses dataframes, para que havendo a necessidade não seja necessário refazer todo o processo de leitura e divisão dos arquivos.</p>"
   ]
  },
  {
   "cell_type": "markdown",
   "metadata": {
    "id": "oJkfi5rby02q"
   },
   "source": [
    "\n",
    "<p align=\"justify\"><h2>2.2. Tratamento de variáveis constantes, quase-constantes e com forte correlação</h2></p>\n"
   ]
  },
  {
   "cell_type": "markdown",
   "metadata": {
    "id": "9igb8CaHlVQS"
   },
   "source": [
    "<p align=\"justify\"><h3>2.2.1. Variáveis constantes</h3></p>\n"
   ]
  },
  {
   "cell_type": "markdown",
   "metadata": {
    "id": "3Hb4wiq7y4GG"
   },
   "source": [
    "<p align=\"justify\">Esse tipo de variável não contribui muito para o processo de aprendizagem do algoritmo. Normalmente são caracterizadas por terem o mesmo valor em todas as observações feitas ou em quase todas, indicando uma baixa variância nos dados.</p>"
   ]
  },
  {
   "cell_type": "code",
   "execution_count": 14,
   "metadata": {
    "colab": {
     "base_uri": "https://localhost:8080/"
    },
    "id": "oMAn8WM5Nz-t",
    "outputId": "7d9fd657-c6eb-4fb0-86a0-77effd753f4d"
   },
   "outputs": [
    {
     "name": "stdout",
     "output_type": "stream",
     "text": [
      "Non-constant attributes: 334\n",
      "Constant attributes: 35\n",
      "\n",
      " List of constant attributes:\n"
     ]
    },
    {
     "data": {
      "text/plain": [
       "['ind_var2_0',\n",
       " 'ind_var2',\n",
       " 'ind_var27_0',\n",
       " 'ind_var28_0',\n",
       " 'ind_var28',\n",
       " 'ind_var27',\n",
       " 'ind_var41',\n",
       " 'ind_var46_0',\n",
       " 'ind_var46',\n",
       " 'num_var27_0',\n",
       " 'num_var28_0',\n",
       " 'num_var28',\n",
       " 'num_var27',\n",
       " 'num_var41',\n",
       " 'num_var46_0',\n",
       " 'num_var46',\n",
       " 'saldo_var28',\n",
       " 'saldo_var27',\n",
       " 'saldo_var41',\n",
       " 'saldo_var46',\n",
       " 'imp_amort_var18_hace3',\n",
       " 'imp_amort_var34_hace3',\n",
       " 'imp_reemb_var13_hace3',\n",
       " 'imp_reemb_var33_hace3',\n",
       " 'imp_trasp_var17_out_hace3',\n",
       " 'imp_trasp_var33_out_hace3',\n",
       " 'num_var2_0_ult1',\n",
       " 'num_var2_ult1',\n",
       " 'num_reemb_var13_hace3',\n",
       " 'num_reemb_var33_hace3',\n",
       " 'num_trasp_var17_out_hace3',\n",
       " 'num_trasp_var33_out_hace3',\n",
       " 'saldo_var2_ult1',\n",
       " 'saldo_medio_var13_medio_hace3',\n",
       " 'saldo_medio_var29_hace3']"
      ]
     },
     "execution_count": 14,
     "metadata": {},
     "output_type": "execute_result"
    }
   ],
   "source": [
    "from sklearn.feature_selection import VarianceThreshold\n",
    "\n",
    "# Criação dos atributos não constantes do dataset\n",
    "vars_threshold = VarianceThreshold(threshold=(0)).fit(x_train)\n",
    "\n",
    "# Quantidade de atributos não cosntantes\n",
    "x_train.columns[vars_threshold.get_support()].size\n",
    "print('Non-constant attributes:', x_train.columns[vars_threshold.get_support()].size)\n",
    "\n",
    "# Quantidade de atributos constantes\n",
    "vars_constants = [col for col in x_train.columns if col not in x_train.columns[vars_threshold.get_support()]]\n",
    "print('Constant attributes:', len(vars_constants))\n",
    "\n",
    "# Lista dos atributos constantes\n",
    "print(\"\\n\", \"List of constant attributes:\")\n",
    "vars_constants"
   ]
  },
  {
   "cell_type": "markdown",
   "metadata": {
    "id": "Rr3eAKu2bImn"
   },
   "source": [
    "<p align=\"justify\">Com os atributos constantes conhecidos podemos exclui-los do dataset, pois essas informações se tornam irrelevantes ou até mesmo atrapalham a construção do modelo a ser criado.</p>"
   ]
  },
  {
   "cell_type": "code",
   "execution_count": 15,
   "metadata": {
    "colab": {
     "base_uri": "https://localhost:8080/"
    },
    "id": "1_MrcPucdEoC",
    "outputId": "5a532159-64ae-4240-f69e-b54720126f74"
   },
   "outputs": [
    {
     "data": {
      "text/plain": [
       "(49849, 334)"
      ]
     },
     "execution_count": 15,
     "metadata": {},
     "output_type": "execute_result"
    }
   ],
   "source": [
    "x_train = x_train.drop(vars_constants, axis=1)\n",
    "x_train.shape"
   ]
  },
  {
   "cell_type": "markdown",
   "metadata": {
    "id": "k3M3K3Zylx8A"
   },
   "source": [
    "<p align=\"justify\"><h3>2.2.2. Variáveis quase-constantes</h3></p>\n"
   ]
  },
  {
   "cell_type": "markdown",
   "metadata": {
    "id": "4j5YJouCl5fn"
   },
   "source": [
    "<p align=\"justify\">Esses atributos possuem uma variância muito pequena, porém podem prejudicar também o modelo de machine learning. De antemão vamos verificar a quantidade e excluir os atributos quase-contantes.</p>"
   ]
  },
  {
   "cell_type": "code",
   "execution_count": 16,
   "metadata": {
    "colab": {
     "base_uri": "https://localhost:8080/"
    },
    "id": "ItOsHeRLncHF",
    "outputId": "0c51fbdd-e425-43ad-8d03-6eb280a24f79"
   },
   "outputs": [
    {
     "name": "stdout",
     "output_type": "stream",
     "text": [
      "Non quasi-constant attributes: 274\n",
      "Quasi-constant attributes: 60\n",
      "\n",
      " List of quasi-constant attributes:\n"
     ]
    },
    {
     "data": {
      "text/plain": [
       "['ind_var1',\n",
       " 'ind_var6_0',\n",
       " 'ind_var6',\n",
       " 'ind_var13_medio_0',\n",
       " 'ind_var13_medio',\n",
       " 'ind_var14',\n",
       " 'ind_var17_0',\n",
       " 'ind_var17',\n",
       " 'ind_var18_0',\n",
       " 'ind_var18',\n",
       " 'ind_var19',\n",
       " 'ind_var20_0',\n",
       " 'ind_var20',\n",
       " 'ind_var29_0',\n",
       " 'ind_var29',\n",
       " 'ind_var30_0',\n",
       " 'ind_var31_0',\n",
       " 'ind_var31',\n",
       " 'ind_var32_cte',\n",
       " 'ind_var32_0',\n",
       " 'ind_var32',\n",
       " 'ind_var33_0',\n",
       " 'ind_var33',\n",
       " 'ind_var34_0',\n",
       " 'ind_var34',\n",
       " 'ind_var40',\n",
       " 'ind_var39',\n",
       " 'ind_var44_0',\n",
       " 'ind_var44',\n",
       " 'num_var6_0',\n",
       " 'num_var6',\n",
       " 'num_var13_medio_0',\n",
       " 'num_var13_medio',\n",
       " 'num_var18_0',\n",
       " 'num_var18',\n",
       " 'num_var29_0',\n",
       " 'num_var29',\n",
       " 'num_var33',\n",
       " 'num_var34_0',\n",
       " 'num_var34',\n",
       " 'ind_var7_emit_ult1',\n",
       " 'ind_var7_recib_ult1',\n",
       " 'num_aport_var33_hace3',\n",
       " 'num_aport_var33_ult1',\n",
       " 'num_var7_emit_ult1',\n",
       " 'num_meses_var13_medio_ult3',\n",
       " 'num_meses_var17_ult3',\n",
       " 'num_meses_var29_ult3',\n",
       " 'num_meses_var33_ult3',\n",
       " 'num_meses_var44_ult3',\n",
       " 'num_reemb_var13_ult1',\n",
       " 'num_reemb_var17_hace3',\n",
       " 'num_reemb_var33_ult1',\n",
       " 'num_trasp_var17_in_hace3',\n",
       " 'num_trasp_var17_in_ult1',\n",
       " 'num_trasp_var17_out_ult1',\n",
       " 'num_trasp_var33_in_hace3',\n",
       " 'num_trasp_var33_in_ult1',\n",
       " 'num_trasp_var33_out_ult1',\n",
       " 'num_venta_var44_hace3']"
      ]
     },
     "execution_count": 16,
     "metadata": {},
     "output_type": "execute_result"
    }
   ],
   "source": [
    "# Criação dos atributos não quasi-constantes\n",
    "vars_threshold = VarianceThreshold(threshold=(0.01)).fit(x_train)\n",
    "\n",
    "# Quantidade de atributos não quasi-constantes\n",
    "x_train.columns[vars_threshold.get_support()].size\n",
    "print('Non quasi-constant attributes:', x_train.columns[vars_threshold.get_support()].size)\n",
    "\n",
    "# Quantidade de atributos quasi-constantes\n",
    "vars_quasi_constant = [col for col in x_train.columns if col not in x_train.columns[vars_threshold.get_support()]]\n",
    "print('Quasi-constant attributes:', len(vars_quasi_constant))\n",
    "\n",
    "# Lista dos atributos constantes\n",
    "print(\"\\n\", \"List of quasi-constant attributes:\")\n",
    "vars_quasi_constant"
   ]
  },
  {
   "cell_type": "code",
   "execution_count": 17,
   "metadata": {
    "colab": {
     "base_uri": "https://localhost:8080/"
    },
    "id": "XQSXnb83qn_L",
    "outputId": "a6ed43f3-26a6-472b-ca99-5e5c096cd61b"
   },
   "outputs": [
    {
     "data": {
      "text/plain": [
       "(49849, 274)"
      ]
     },
     "execution_count": 17,
     "metadata": {},
     "output_type": "execute_result"
    }
   ],
   "source": [
    "x_train = x_train.drop(vars_quasi_constant, axis=1)\n",
    "x_train.shape"
   ]
  },
  {
   "cell_type": "markdown",
   "metadata": {
    "id": "_oFzMxeRBKkQ"
   },
   "source": [
    "<p align=\"justify\"><h3>2.2.3. Correlação entre as variáveis</h3></p>"
   ]
  },
  {
   "cell_type": "markdown",
   "metadata": {
    "id": "jYFlF_GgBqy8"
   },
   "source": [
    "<p align=\"justify\">A correlação, indica a força e a direção do relacionamento estatístico entre duas variáveis. Um bom conjunto de variáveis preditoras, possui uma baixa correlação entre si (com valores próximos de 0) e uma alta correlação com a variável target (com valores próximos de -1 e 1).<br>\n",
    "As variáveis perfeitamente correlacionadas (com correlação igual a -1 e 1), carregam exatamente as mesmas informações, e também devem ser removidas.</p>"
   ]
  },
  {
   "cell_type": "code",
   "execution_count": 18,
   "metadata": {
    "id": "svltPKTjFl0D"
   },
   "outputs": [],
   "source": [
    "var_correlation = x_train.corr()"
   ]
  },
  {
   "cell_type": "code",
   "execution_count": 19,
   "metadata": {
    "id": "FQtVAPJ8uOhc"
   },
   "outputs": [],
   "source": [
    "# Com essa função vamos pegar apenas a primeira ocorrência dos atributos que possuem uma correlação maior que 0,7.\n",
    "\n",
    "def correlation(threshold):\n",
    "\n",
    "  global var_correlation\n",
    "  column_high_corr = set()\n",
    "\n",
    "  for i in range(len(var_correlation.columns)):\n",
    "    for j in range(i):\n",
    "      if abs(var_correlation.iloc[i, j] > threshold):\n",
    "        colnames = var_correlation.columns[i]\n",
    "        column_high_corr.add(colnames)\n",
    "\n",
    "  return column_high_corr\n"
   ]
  },
  {
   "cell_type": "code",
   "execution_count": 20,
   "metadata": {
    "id": "Tb4e86Aty2TS"
   },
   "outputs": [],
   "source": [
    "high_corr = correlation(0.7)"
   ]
  },
  {
   "cell_type": "code",
   "execution_count": 21,
   "metadata": {
    "colab": {
     "base_uri": "https://localhost:8080/"
    },
    "id": "NdThkvQ7y2ew",
    "outputId": "2d0274c7-1325-44bd-e3c0-bb8c1b965c48"
   },
   "outputs": [
    {
     "data": {
      "text/plain": [
       "173"
      ]
     },
     "execution_count": 21,
     "metadata": {},
     "output_type": "execute_result"
    }
   ],
   "source": [
    "# Verificando a quantidade de atributos com alta correlação\n",
    "high_corr = list(high_corr)\n",
    "len(high_corr)\n"
   ]
  },
  {
   "cell_type": "markdown",
   "metadata": {
    "id": "NhLkZGsL8gZe"
   },
   "source": [
    "<p align=\"justify\">Verificamos que há 173 elementos que possuem uma alta correlação. Quando isso ocorre podemos dizer que os atributos representam praticamente a mesma informação, isso se torna uma ruído durante o treinamento do modelo de machine learning, portanto é importante que seja dado um tratamento, sendo assim escolhemos excluir esses atributos.<br>Observaremos que o conjunto de dados permanecerá ainda com 101 atributos, o que ainda é bastante para um treinamento de modelo, buscaremos outras formas de diminuir ainda mais atributos desnecessários ao processo.</p>"
   ]
  },
  {
   "cell_type": "code",
   "execution_count": 22,
   "metadata": {
    "colab": {
     "base_uri": "https://localhost:8080/"
    },
    "id": "W85Jvu_9y2un",
    "outputId": "09980556-ca98-491e-c37a-134a64579053"
   },
   "outputs": [
    {
     "data": {
      "text/plain": [
       "(49849, 101)"
      ]
     },
     "execution_count": 22,
     "metadata": {},
     "output_type": "execute_result"
    }
   ],
   "source": [
    "x_train = x_train.drop(high_corr, axis=1)\n",
    "x_train.shape"
   ]
  },
  {
   "cell_type": "markdown",
   "metadata": {
    "id": "sX-OD0sL6Nxi"
   },
   "source": [
    "<p align=\"justify\"><h3>2.2.4. Estimativa de informações mútuas</h3></p>"
   ]
  },
  {
   "cell_type": "markdown",
   "metadata": {
    "id": "z0u8dcMV-zuc"
   },
   "source": [
    "<p align=\"justify\">O Scikit Learn oferece uma função para feature selection que faz uma estimativa mútua de informações para uma variável target do tipo dicreta. A informação mútua entre duas variáveia aleatórias é um valor não negativo, o qual mede a dependência entre elas duas. É igual a zero se e somente se as duas variáveis são independentes, e valores maiores significa maior dependência.</p>\n",
    "\n",
    "\n"
   ]
  },
  {
   "cell_type": "code",
   "execution_count": 23,
   "metadata": {
    "id": "N2I3GrzPgG__"
   },
   "outputs": [],
   "source": [
    "# Carrengando o pacote\n",
    "from sklearn.feature_selection import mutual_info_classif\n",
    "\n",
    "# Avaliando a dependência ou não dos atributos com a variável target\n",
    "mutual_info = mutual_info_classif(x_train, y_train)\n",
    "\n",
    "# Adaptando para melhor visualização dos dados\n",
    "mutual_info = pd.Series(mutual_info)\n",
    "mutual_info.index = x_train.columns\n"
   ]
  },
  {
   "cell_type": "code",
   "execution_count": 24,
   "metadata": {
    "colab": {
     "base_uri": "https://localhost:8080/",
     "height": 1000
    },
    "id": "BvoVTBxerio0",
    "outputId": "87b608a1-889f-46e0-cb93-948113ad6c11"
   },
   "outputs": [
    {
     "data": {
      "text/plain": [
       "<matplotlib.axes._subplots.AxesSubplot at 0x139c58cc080>"
      ]
     },
     "execution_count": 24,
     "metadata": {},
     "output_type": "execute_result"
    },
    {
     "data": {
      "image/png": "[encoded data removed]",
      "text/plain": [
       "<Figure size 720x1440 with 1 Axes>"
      ]
     },
     "metadata": {
      "needs_background": "light"
     },
     "output_type": "display_data"
    }
   ],
   "source": [
    "# Plot das variáveis mais dependentes\n",
    "mutual_info[mutual_info > 0].sort_values(ascending = True).plot(figsize=(10,20), kind = 'barh', color = 'gray')"
   ]
  },
  {
   "cell_type": "markdown",
   "metadata": {
    "id": "2OykGlJuvrhy"
   },
   "source": [
    "<p align=\"justify\">É importante saber a quantidade de valores dependentes e independentes em relação a variável target. Os valores que são independentes não interessam para análise, pois não farão diferença na hora do treinamento do modelo de machine learning, já por outro lado as variáveis dependentes farão diferença no resultado final do modelo. Como podemos ver abaixo exitem 63 atributos que possuem dependência com a variável target. A decisão nesse caso é de excluir os atributos independentes e realizar algum outro critério de escolha para os 63 atributos restantes, tentando buscar os que possuem as melhores afinidades com a variável target.</p>"
   ]
  },
  {
   "cell_type": "code",
   "execution_count": 25,
   "metadata": {
    "colab": {
     "base_uri": "https://localhost:8080/"
    },
    "id": "Iqnv88s5vhUH",
    "outputId": "28f4565e-ba24-4f82-e6b9-566daedecfc2"
   },
   "outputs": [
    {
     "name": "stdout",
     "output_type": "stream",
     "text": [
      "Atributos independentes: 31\n",
      "Atributos dependentes: 70\n"
     ]
    }
   ],
   "source": [
    "print('Atributos independentes:', len(mutual_info[mutual_info == 0]))\n",
    "print('Atributos dependentes:', len(mutual_info[mutual_info > 0]))"
   ]
  },
  {
   "cell_type": "code",
   "execution_count": 26,
   "metadata": {
    "colab": {
     "base_uri": "https://localhost:8080/"
    },
    "id": "v5caMZ_-vhXE",
    "outputId": "762ea343-bced-4354-a104-2f48012560cb"
   },
   "outputs": [
    {
     "data": {
      "text/plain": [
       "(49849, 70)"
      ]
     },
     "execution_count": 26,
     "metadata": {},
     "output_type": "execute_result"
    }
   ],
   "source": [
    "# Excluindo os atributos independentes\n",
    "x_train = x_train.drop(mutual_info[mutual_info == 0].index, axis=1)\n",
    "x_train.shape"
   ]
  },
  {
   "cell_type": "markdown",
   "metadata": {
    "id": "fHv60ivtHEmi"
   },
   "source": [
    "<h3>2.2.5. Random Forest para feature selection</h3>"
   ]
  },
  {
   "cell_type": "markdown",
   "metadata": {
    "id": "OFyUkwLYNGB5"
   },
   "source": [
    "<p align=\"justify\">O algoritmo do Random Forest é uma importante ferramenta para a realização do feature selection, pois atrvés dele é possível visualizar os principais atributos, em ordem de importância, que influenciam no treinamento do modelo pretendido.</p>"
   ]
  },
  {
   "cell_type": "code",
   "execution_count": 27,
   "metadata": {
    "colab": {
     "base_uri": "https://localhost:8080/",
     "height": 1000
    },
    "id": "_ttoib_0OLyR",
    "outputId": "dfcc7f60-5916-4487-dbaf-36953462636e"
   },
   "outputs": [
    {
     "data": {
      "text/html": [
       "<div>\n",
       "<style scoped>\n",
       "    .dataframe tbody tr th:only-of-type {\n",
       "        vertical-align: middle;\n",
       "    }\n",
       "\n",
       "    .dataframe tbody tr th {\n",
       "        vertical-align: top;\n",
       "    }\n",
       "\n",
       "    .dataframe thead th {\n",
       "        text-align: right;\n",
       "    }\n",
       "</style>\n",
       "<table border=\"1\" class=\"dataframe\">\n",
       "  <thead>\n",
       "    <tr style=\"text-align: right;\">\n",
       "      <th></th>\n",
       "      <th>Attribute</th>\n",
       "      <th>Importance</th>\n",
       "    </tr>\n",
       "  </thead>\n",
       "  <tbody>\n",
       "    <tr>\n",
       "      <th>69</th>\n",
       "      <td>var38</td>\n",
       "      <td>4.247660e-01</td>\n",
       "    </tr>\n",
       "    <tr>\n",
       "      <th>1</th>\n",
       "      <td>var15</td>\n",
       "      <td>1.838767e-01</td>\n",
       "    </tr>\n",
       "    <tr>\n",
       "      <th>63</th>\n",
       "      <td>saldo_medio_var5_hace3</td>\n",
       "      <td>5.900078e-02</td>\n",
       "    </tr>\n",
       "    <tr>\n",
       "      <th>62</th>\n",
       "      <td>saldo_medio_var5_hace2</td>\n",
       "      <td>4.565376e-02</td>\n",
       "    </tr>\n",
       "    <tr>\n",
       "      <th>26</th>\n",
       "      <td>saldo_var5</td>\n",
       "      <td>3.781057e-02</td>\n",
       "    </tr>\n",
       "    <tr>\n",
       "      <th>58</th>\n",
       "      <td>num_med_var45_ult3</td>\n",
       "      <td>2.917810e-02</td>\n",
       "    </tr>\n",
       "    <tr>\n",
       "      <th>55</th>\n",
       "      <td>num_var22_hace2</td>\n",
       "      <td>2.340956e-02</td>\n",
       "    </tr>\n",
       "    <tr>\n",
       "      <th>56</th>\n",
       "      <td>num_var22_hace3</td>\n",
       "      <td>2.187254e-02</td>\n",
       "    </tr>\n",
       "    <tr>\n",
       "      <th>57</th>\n",
       "      <td>num_var22_ult1</td>\n",
       "      <td>1.664752e-02</td>\n",
       "    </tr>\n",
       "    <tr>\n",
       "      <th>16</th>\n",
       "      <td>num_var4</td>\n",
       "      <td>1.574161e-02</td>\n",
       "    </tr>\n",
       "    <tr>\n",
       "      <th>3</th>\n",
       "      <td>imp_op_var39_comer_ult1</td>\n",
       "      <td>1.495293e-02</td>\n",
       "    </tr>\n",
       "    <tr>\n",
       "      <th>34</th>\n",
       "      <td>var36</td>\n",
       "      <td>1.437588e-02</td>\n",
       "    </tr>\n",
       "    <tr>\n",
       "      <th>6</th>\n",
       "      <td>imp_op_var41_efect_ult1</td>\n",
       "      <td>1.324857e-02</td>\n",
       "    </tr>\n",
       "    <tr>\n",
       "      <th>22</th>\n",
       "      <td>num_op_var41_hace2</td>\n",
       "      <td>1.083118e-02</td>\n",
       "    </tr>\n",
       "    <tr>\n",
       "      <th>49</th>\n",
       "      <td>imp_var43_emit_ult1</td>\n",
       "      <td>8.360463e-03</td>\n",
       "    </tr>\n",
       "    <tr>\n",
       "      <th>59</th>\n",
       "      <td>num_op_var41_efect_ult1</td>\n",
       "      <td>8.059369e-03</td>\n",
       "    </tr>\n",
       "    <tr>\n",
       "      <th>14</th>\n",
       "      <td>ind_var39_0</td>\n",
       "      <td>7.139972e-03</td>\n",
       "    </tr>\n",
       "    <tr>\n",
       "      <th>27</th>\n",
       "      <td>saldo_var8</td>\n",
       "      <td>6.909441e-03</td>\n",
       "    </tr>\n",
       "    <tr>\n",
       "      <th>2</th>\n",
       "      <td>imp_ent_var16_ult1</td>\n",
       "      <td>6.850109e-03</td>\n",
       "    </tr>\n",
       "    <tr>\n",
       "      <th>0</th>\n",
       "      <td>var3</td>\n",
       "      <td>6.629768e-03</td>\n",
       "    </tr>\n",
       "    <tr>\n",
       "      <th>61</th>\n",
       "      <td>num_var43_recib_ult1</td>\n",
       "      <td>5.873324e-03</td>\n",
       "    </tr>\n",
       "    <tr>\n",
       "      <th>9</th>\n",
       "      <td>ind_var5</td>\n",
       "      <td>4.892156e-03</td>\n",
       "    </tr>\n",
       "    <tr>\n",
       "      <th>64</th>\n",
       "      <td>saldo_medio_var8_hace2</td>\n",
       "      <td>3.969111e-03</td>\n",
       "    </tr>\n",
       "    <tr>\n",
       "      <th>54</th>\n",
       "      <td>num_ent_var16_ult1</td>\n",
       "      <td>3.824714e-03</td>\n",
       "    </tr>\n",
       "    <tr>\n",
       "      <th>11</th>\n",
       "      <td>ind_var12_0</td>\n",
       "      <td>3.335703e-03</td>\n",
       "    </tr>\n",
       "    <tr>\n",
       "      <th>28</th>\n",
       "      <td>saldo_var12</td>\n",
       "      <td>3.224882e-03</td>\n",
       "    </tr>\n",
       "    <tr>\n",
       "      <th>52</th>\n",
       "      <td>ind_var43_recib_ult1</td>\n",
       "      <td>2.961386e-03</td>\n",
       "    </tr>\n",
       "    <tr>\n",
       "      <th>10</th>\n",
       "      <td>ind_var8_0</td>\n",
       "      <td>2.561520e-03</td>\n",
       "    </tr>\n",
       "    <tr>\n",
       "      <th>8</th>\n",
       "      <td>ind_var5_0</td>\n",
       "      <td>2.104052e-03</td>\n",
       "    </tr>\n",
       "    <tr>\n",
       "      <th>12</th>\n",
       "      <td>ind_var13_0</td>\n",
       "      <td>1.676783e-03</td>\n",
       "    </tr>\n",
       "    <tr>\n",
       "      <th>...</th>\n",
       "      <td>...</td>\n",
       "      <td>...</td>\n",
       "    </tr>\n",
       "    <tr>\n",
       "      <th>65</th>\n",
       "      <td>saldo_medio_var13_corto_hace3</td>\n",
       "      <td>4.396465e-04</td>\n",
       "    </tr>\n",
       "    <tr>\n",
       "      <th>17</th>\n",
       "      <td>num_var17_0</td>\n",
       "      <td>3.731772e-04</td>\n",
       "    </tr>\n",
       "    <tr>\n",
       "      <th>47</th>\n",
       "      <td>imp_compra_var44_ult1</td>\n",
       "      <td>3.494244e-04</td>\n",
       "    </tr>\n",
       "    <tr>\n",
       "      <th>15</th>\n",
       "      <td>num_var1</td>\n",
       "      <td>3.416925e-04</td>\n",
       "    </tr>\n",
       "    <tr>\n",
       "      <th>23</th>\n",
       "      <td>num_var32_0</td>\n",
       "      <td>3.007980e-04</td>\n",
       "    </tr>\n",
       "    <tr>\n",
       "      <th>19</th>\n",
       "      <td>num_op_var40_hace2</td>\n",
       "      <td>1.824075e-04</td>\n",
       "    </tr>\n",
       "    <tr>\n",
       "      <th>42</th>\n",
       "      <td>imp_aport_var17_ult1</td>\n",
       "      <td>1.688732e-04</td>\n",
       "    </tr>\n",
       "    <tr>\n",
       "      <th>13</th>\n",
       "      <td>ind_var13_largo_0</td>\n",
       "      <td>1.503725e-04</td>\n",
       "    </tr>\n",
       "    <tr>\n",
       "      <th>25</th>\n",
       "      <td>num_var44_0</td>\n",
       "      <td>9.227013e-05</td>\n",
       "    </tr>\n",
       "    <tr>\n",
       "      <th>37</th>\n",
       "      <td>delta_imp_reemb_var13_1y3</td>\n",
       "      <td>7.943266e-05</td>\n",
       "    </tr>\n",
       "    <tr>\n",
       "      <th>18</th>\n",
       "      <td>num_var20_0</td>\n",
       "      <td>5.598535e-05</td>\n",
       "    </tr>\n",
       "    <tr>\n",
       "      <th>36</th>\n",
       "      <td>delta_imp_aport_var17_1y3</td>\n",
       "      <td>4.101276e-05</td>\n",
       "    </tr>\n",
       "    <tr>\n",
       "      <th>24</th>\n",
       "      <td>num_var33_0</td>\n",
       "      <td>3.966190e-05</td>\n",
       "    </tr>\n",
       "    <tr>\n",
       "      <th>66</th>\n",
       "      <td>saldo_medio_var17_hace2</td>\n",
       "      <td>3.435034e-05</td>\n",
       "    </tr>\n",
       "    <tr>\n",
       "      <th>39</th>\n",
       "      <td>delta_imp_venta_var44_1y3</td>\n",
       "      <td>2.363004e-05</td>\n",
       "    </tr>\n",
       "    <tr>\n",
       "      <th>32</th>\n",
       "      <td>saldo_var33</td>\n",
       "      <td>2.299623e-05</td>\n",
       "    </tr>\n",
       "    <tr>\n",
       "      <th>31</th>\n",
       "      <td>saldo_var20</td>\n",
       "      <td>1.368415e-05</td>\n",
       "    </tr>\n",
       "    <tr>\n",
       "      <th>46</th>\n",
       "      <td>imp_compra_var44_hace3</td>\n",
       "      <td>1.262151e-05</td>\n",
       "    </tr>\n",
       "    <tr>\n",
       "      <th>41</th>\n",
       "      <td>imp_aport_var17_hace3</td>\n",
       "      <td>3.171753e-06</td>\n",
       "    </tr>\n",
       "    <tr>\n",
       "      <th>67</th>\n",
       "      <td>saldo_medio_var17_hace3</td>\n",
       "      <td>2.481667e-06</td>\n",
       "    </tr>\n",
       "    <tr>\n",
       "      <th>20</th>\n",
       "      <td>num_op_var40_hace3</td>\n",
       "      <td>2.095421e-06</td>\n",
       "    </tr>\n",
       "    <tr>\n",
       "      <th>43</th>\n",
       "      <td>imp_aport_var33_ult1</td>\n",
       "      <td>2.095259e-06</td>\n",
       "    </tr>\n",
       "    <tr>\n",
       "      <th>68</th>\n",
       "      <td>saldo_medio_var29_hace2</td>\n",
       "      <td>1.269321e-06</td>\n",
       "    </tr>\n",
       "    <tr>\n",
       "      <th>29</th>\n",
       "      <td>saldo_var13_medio</td>\n",
       "      <td>5.536571e-07</td>\n",
       "    </tr>\n",
       "    <tr>\n",
       "      <th>51</th>\n",
       "      <td>imp_trasp_var33_in_hace3</td>\n",
       "      <td>2.559451e-07</td>\n",
       "    </tr>\n",
       "    <tr>\n",
       "      <th>44</th>\n",
       "      <td>imp_var7_emit_ult1</td>\n",
       "      <td>8.834697e-08</td>\n",
       "    </tr>\n",
       "    <tr>\n",
       "      <th>50</th>\n",
       "      <td>imp_trasp_var17_in_hace3</td>\n",
       "      <td>8.255259e-08</td>\n",
       "    </tr>\n",
       "    <tr>\n",
       "      <th>48</th>\n",
       "      <td>imp_reemb_var17_hace3</td>\n",
       "      <td>3.765267e-08</td>\n",
       "    </tr>\n",
       "    <tr>\n",
       "      <th>38</th>\n",
       "      <td>delta_imp_reemb_var33_1y3</td>\n",
       "      <td>3.471170e-09</td>\n",
       "    </tr>\n",
       "    <tr>\n",
       "      <th>33</th>\n",
       "      <td>saldo_var34</td>\n",
       "      <td>2.925052e-10</td>\n",
       "    </tr>\n",
       "  </tbody>\n",
       "</table>\n",
       "<p>70 rows × 2 columns</p>\n",
       "</div>"
      ],
      "text/plain": [
       "                        Attribute    Importance\n",
       "69                          var38  4.247660e-01\n",
       "1                           var15  1.838767e-01\n",
       "63         saldo_medio_var5_hace3  5.900078e-02\n",
       "62         saldo_medio_var5_hace2  4.565376e-02\n",
       "26                     saldo_var5  3.781057e-02\n",
       "58             num_med_var45_ult3  2.917810e-02\n",
       "55                num_var22_hace2  2.340956e-02\n",
       "56                num_var22_hace3  2.187254e-02\n",
       "57                 num_var22_ult1  1.664752e-02\n",
       "16                       num_var4  1.574161e-02\n",
       "3         imp_op_var39_comer_ult1  1.495293e-02\n",
       "34                          var36  1.437588e-02\n",
       "6         imp_op_var41_efect_ult1  1.324857e-02\n",
       "22             num_op_var41_hace2  1.083118e-02\n",
       "49            imp_var43_emit_ult1  8.360463e-03\n",
       "59        num_op_var41_efect_ult1  8.059369e-03\n",
       "14                    ind_var39_0  7.139972e-03\n",
       "27                     saldo_var8  6.909441e-03\n",
       "2              imp_ent_var16_ult1  6.850109e-03\n",
       "0                            var3  6.629768e-03\n",
       "61           num_var43_recib_ult1  5.873324e-03\n",
       "9                        ind_var5  4.892156e-03\n",
       "64         saldo_medio_var8_hace2  3.969111e-03\n",
       "54             num_ent_var16_ult1  3.824714e-03\n",
       "11                    ind_var12_0  3.335703e-03\n",
       "28                    saldo_var12  3.224882e-03\n",
       "52           ind_var43_recib_ult1  2.961386e-03\n",
       "10                     ind_var8_0  2.561520e-03\n",
       "8                      ind_var5_0  2.104052e-03\n",
       "12                    ind_var13_0  1.676783e-03\n",
       "..                            ...           ...\n",
       "65  saldo_medio_var13_corto_hace3  4.396465e-04\n",
       "17                    num_var17_0  3.731772e-04\n",
       "47          imp_compra_var44_ult1  3.494244e-04\n",
       "15                       num_var1  3.416925e-04\n",
       "23                    num_var32_0  3.007980e-04\n",
       "19             num_op_var40_hace2  1.824075e-04\n",
       "42           imp_aport_var17_ult1  1.688732e-04\n",
       "13              ind_var13_largo_0  1.503725e-04\n",
       "25                    num_var44_0  9.227013e-05\n",
       "37      delta_imp_reemb_var13_1y3  7.943266e-05\n",
       "18                    num_var20_0  5.598535e-05\n",
       "36      delta_imp_aport_var17_1y3  4.101276e-05\n",
       "24                    num_var33_0  3.966190e-05\n",
       "66        saldo_medio_var17_hace2  3.435034e-05\n",
       "39      delta_imp_venta_var44_1y3  2.363004e-05\n",
       "32                    saldo_var33  2.299623e-05\n",
       "31                    saldo_var20  1.368415e-05\n",
       "46         imp_compra_var44_hace3  1.262151e-05\n",
       "41          imp_aport_var17_hace3  3.171753e-06\n",
       "67        saldo_medio_var17_hace3  2.481667e-06\n",
       "20             num_op_var40_hace3  2.095421e-06\n",
       "43           imp_aport_var33_ult1  2.095259e-06\n",
       "68        saldo_medio_var29_hace2  1.269321e-06\n",
       "29              saldo_var13_medio  5.536571e-07\n",
       "51       imp_trasp_var33_in_hace3  2.559451e-07\n",
       "44             imp_var7_emit_ult1  8.834697e-08\n",
       "50       imp_trasp_var17_in_hace3  8.255259e-08\n",
       "48          imp_reemb_var17_hace3  3.765267e-08\n",
       "38      delta_imp_reemb_var33_1y3  3.471170e-09\n",
       "33                    saldo_var34  2.925052e-10\n",
       "\n",
       "[70 rows x 2 columns]"
      ]
     },
     "execution_count": 27,
     "metadata": {},
     "output_type": "execute_result"
    }
   ],
   "source": [
    "# Realizando tarefa de seleção de variáveis com Random Forest\n",
    "from sklearn.ensemble import RandomForestClassifier\n",
    "\n",
    "# Criando o modelo\n",
    "clf = RandomForestClassifier(n_estimators=500, n_jobs=-1, random_state=0)\n",
    "\n",
    "# Treinando o modelo para verificar a importância dos atributos\n",
    "importance = clf.fit(x_train, y_train)\n",
    "\n",
    "# Colocando os atributos em ordem decrescente de importância\n",
    "vars_best = pd.DataFrame({'Attribute': x_train.columns,\n",
    "                          'Importance': importance.feature_importances_})\n",
    "\n",
    "\n",
    "vars_best.sort_values('Importance', ascending=False)\n"
   ]
  },
  {
   "cell_type": "code",
   "execution_count": 28,
   "metadata": {
    "colab": {
     "base_uri": "https://localhost:8080/"
    },
    "id": "eROle55BkGcI",
    "outputId": "20a25476-ba61-4caa-fee0-5799c4365f58"
   },
   "outputs": [
    {
     "data": {
      "text/plain": [
       "33"
      ]
     },
     "execution_count": 28,
     "metadata": {},
     "output_type": "execute_result"
    }
   ],
   "source": [
    "# Atributos com relação maior que 0.001 com a variável target\n",
    "len(vars_best[vars_best['Importance'] > 0.001])"
   ]
  },
  {
   "cell_type": "markdown",
   "metadata": {
    "id": "CFBxvaIFgHOc"
   },
   "source": [
    "<p align=\"justify\">No exposto acima podemos observar que existe atributoa que possuem baixa relação com a variável target. Algumas delas apresentando valores menores que 0.001. Devido a isso, esse atributos tronam-se ruído quando pensamos no treinamento do modelo de machine learning. Portanto vamos exdcluir todos esses atributos do nosso conjunto de dados de treinamento</p>"
   ]
  },
  {
   "cell_type": "code",
   "execution_count": 29,
   "metadata": {
    "colab": {
     "base_uri": "https://localhost:8080/"
    },
    "id": "U2rg4_jEYSdG",
    "outputId": "7c822a8b-dd10-4396-b95c-d0e9a47782d4"
   },
   "outputs": [
    {
     "data": {
      "text/plain": [
       "(49849, 33)"
      ]
     },
     "execution_count": 29,
     "metadata": {},
     "output_type": "execute_result"
    }
   ],
   "source": [
    "reduced_x_train = x_train[vars_best[vars_best['Importance'] > 0.001]['Attribute']]\n",
    "reduced_x_train.to_csv(\"reduced_x_train.csv\")\n",
    "reduced_x_train.shape"
   ]
  },
  {
   "cell_type": "markdown",
   "metadata": {
    "id": "37ooGytkH2sD"
   },
   "source": [
    "<p align=\"justify\">Os atributos de treinamento selecionados ficaram em torno de 34, o que ainda pode ser considerado muito a depender da quantidade de observações que o conjunto de dados tenha. Porém iremos continuar com o projeto considerando que chegamos em um valor adequado, se for necessário, posteriormente faremos uma redução de dimensionalidade utilizando o algoritmo do PCA, para reduzir ainda mais o número de atributos do dataset.</p>"
   ]
  },
  {
   "cell_type": "code",
   "execution_count": 30,
   "metadata": {
    "colab": {
     "base_uri": "https://localhost:8080/"
    },
    "id": "hIXV2nwvrgEK",
    "outputId": "3c8a4438-c7aa-4bea-8c36-2c5a0531f697"
   },
   "outputs": [
    {
     "data": {
      "text/plain": [
       "(21364, 33)"
      ]
     },
     "execution_count": 30,
     "metadata": {},
     "output_type": "execute_result"
    }
   ],
   "source": [
    "# Alterando os atributos do dataset de teste x_test\n",
    "reduced_x_test = x_test[reduced_x_train.columns]\n",
    "reduced_x_test.shape"
   ]
  },
  {
   "cell_type": "markdown",
   "metadata": {
    "id": "rZB1-qFGfPyy"
   },
   "source": [
    "<p align=\"justify\"><h2>2.3. Balanceamento da variável target</h2></p>"
   ]
  },
  {
   "cell_type": "markdown",
   "metadata": {
    "id": "RC1GBiksT9T8"
   },
   "source": [
    "<p align=\"justify\">Balancear a variável target é de fundamental importância quando estamos realizando um projeto de machine learning cujo o objetivo é classificar categorias. Se a variável target, durante o treinamento estiver desbalanceada, provocará um viés de saber indentificar apenas a categoria na qual se tem mais observações. Para resolver isso vamos treinar nossos dados em um algoritmo que realizará esse balanceamento sem a necessidade de deletar observações. O algoritmo em questão é o SMOTE.</p>"
   ]
  },
  {
   "cell_type": "code",
   "execution_count": 31,
   "metadata": {
    "colab": {
     "base_uri": "https://localhost:8080/",
     "height": 527
    },
    "id": "qo5pwYPqG0k4",
    "outputId": "b749cf31-f60c-41f1-b1dd-1369dfe428e4"
   },
   "outputs": [
    {
     "data": {
      "image/png": "[encoded data removed]",
      "text/plain": [
       "<Figure size 576x432 with 1 Axes>"
      ]
     },
     "metadata": {
      "needs_background": "light"
     },
     "output_type": "display_data"
    }
   ],
   "source": [
    "# Instalando o pacote imbalanced-learn para usar a função SMOTE para balancear a variável (atributo) target\n",
    "# !pip install -U imbalanced-learn\n",
    "from imblearn.over_sampling import SMOTE\n",
    "\n",
    "# Balanceando de forma randômica o dataset de treino do modelo de machine learning\n",
    "smote = SMOTE(random_state = 10)\n",
    "\n",
    "#balanced_x_train, balanced_y_train = smote.fit_sample(reduced_x_train, y_train)\n",
    "balanced_x_train, balanced_y_train = smote.fit_resample(reduced_x_train, y_train)\n",
    "\n",
    "# Criando uma visualização\n",
    "plt.figure(figsize=(8,6))\n",
    "pd.value_counts(balanced_y_train).plot(kind=\"bar\")\n",
    "plt.title(\"Variável Target\")\n",
    "plt.xlabel(\"Valor Categórico\")\n",
    "plt.ylabel(\"Quantidade por categoria\")\n",
    "plt.show()\n"
   ]
  },
  {
   "cell_type": "code",
   "execution_count": 32,
   "metadata": {
    "colab": {
     "base_uri": "https://localhost:8080/"
    },
    "id": "6-Mp-3dclc6N",
    "outputId": "fb3ac805-5aeb-41be-893d-5f5d44753fc5"
   },
   "outputs": [
    {
     "name": "stdout",
     "output_type": "stream",
     "text": [
      "(95666, 33)\n",
      "(95666,)\n",
      "False\n",
      "False\n"
     ]
    }
   ],
   "source": [
    "# Essas celulas de verificação podem ser deletadas posteriormente para não poluir muito o projeto.\n",
    "\n",
    "# Novo formato dos dados de treino após a utilização da função SMOTE para balanceamento da variável target\n",
    "print(balanced_x_train.shape)\n",
    "print(balanced_y_train.shape)\n",
    "\n",
    "# Aproveitaremos e testaremos se esse processo gerou dados NA\n",
    "print(pd.DataFrame(balanced_x_train).isnull().values.any())\n",
    "print(pd.DataFrame(balanced_y_train).isnull().values.any())\n",
    "\n",
    "# Salvando o progresso\n",
    "pd.DataFrame(balanced_x_train).to_csv(\"balanced_x_train.csv\")\n",
    "pd.DataFrame(balanced_y_train).to_csv(\"balanced_y_train.csv\")"
   ]
  },
  {
   "cell_type": "markdown",
   "metadata": {
    "id": "oowHimj7XaMK"
   },
   "source": [
    "<p align=\"justify\">Podemos ver, através do gráfico, que a variável target está balanceada e o novo dimensionamnto do nosso conjunto de dados de treinamento tem praticamente o dobro de observações (observações essas criadas através de métodos estatísticos utilizados pelo SMOTE)</p>"
   ]
  },
  {
   "cell_type": "markdown",
   "metadata": {
    "id": "gEb2dWrkZYG7"
   },
   "source": [
    "<p align=\"justify\"><h1>3. Aplicação dos modelos de machine learning</h1></p>"
   ]
  },
  {
   "cell_type": "markdown",
   "metadata": {
    "id": "nco-YHeqb99o"
   },
   "source": [
    "<p align=\"justify\">Vamos aplicar alguns modelos de algoritmos aos nossos dados de treino para depois avaliar com os dados de teste, os quais o algoritmo não terá contato. Dessao forma podemos avaliar se ocorreu overfitting ou underfitting durante o treinamento. Escolhemos 5 algoritmos de classificação para verificarmos qual o melhor deles para o nosso problema de negócios. Entre eles temos KNN, SVM, GaussianNB, RandomForestClassifier, ExtraTreesClassifier, DecisionTreeClassifier, AdaBosstClassifier, GradientBoostingClassifier e o MLPClassifier(Rede Neural). Como o conjunto de dados é pequeno, vamos testar com os dados normais, normalizados e padronizados e ver qual o que tem a melhor acurácia.</p>"
   ]
  },
  {
   "cell_type": "code",
   "execution_count": 33,
   "metadata": {
    "id": "sTYAY-My0yYZ"
   },
   "outputs": [],
   "source": [
    "from sklearn.preprocessing import MinMaxScaler\n",
    "from sklearn.preprocessing import StandardScaler\n",
    "from sklearn.metrics import *\n",
    "\n",
    "def classification(x_tr, y_tr, x_te, y_te, method):\n",
    "\n",
    "  normalized = MinMaxScaler()\n",
    "  standard = StandardScaler()\n",
    "\n",
    "  # Atribuindo e treinando o modelo escolhido. Realizando a predição\n",
    "  model = method()\n",
    "\n",
    "  # Treinando um modelo com dados não transformados\n",
    "  model.fit(x_tr, y_tr)\n",
    "  p_train = model.predict(x_tr)\n",
    "  p_test = model.predict(x_te)\n",
    "\n",
    "  # Treinando modelo com dados normalizados\n",
    "  x_norm_train = normalized.fit_transform(x_tr)\n",
    "  x_norm_test = normalized.fit_transform(x_te)\n",
    "  \n",
    "  model.fit(x_norm_train, y_tr)\n",
    "  p_train_norm = model.predict(x_norm_train)\n",
    "  p_test_norm = model.predict(x_norm_test)\n",
    "\n",
    "  # Treinando modelo com dados padronizados\n",
    "  x_std_train = standard.fit_transform(x_tr)\n",
    "  x_std_test = standard.fit_transform(x_te)\n",
    "  \n",
    "  model.fit(x_std_train, y_tr)\n",
    "  p_train_std = model.predict(x_std_train)\n",
    "  p_test_std = model.predict(x_std_test)\n",
    "\n",
    "  # Visualizando a Confusion Matrix\n",
    "  cm = confusion_matrix(y_te, p_test)\n",
    "  cm_norm = confusion_matrix(y_te, p_test_norm)\n",
    "  cm_std = confusion_matrix(y_te, p_test_std)\n",
    "\n",
    "  print(\"CONFUSION MATRIX:\\n\")\n",
    "  print(\"Original Data:\\n\", cm)\n",
    "  print(\"Normalized Data\\n:\", cm_norm)\n",
    "  print(\"Standardized Data\\n:\", cm_std)\n",
    "  print(\"\\n\")\n",
    "\n",
    "  # Acurácia dos dados de treino\n",
    "  print(\"TRAIN ACCURACY SCORE:\\n\")\n",
    "  print(\"Original Data:\", accuracy_score(y_tr, p_train))\n",
    "  print(\"Normalized Data:\", accuracy_score(y_tr, p_train_norm))\n",
    "  print(\"Standardized Data:\", accuracy_score(y_tr, p_train_std))\n",
    "\n",
    "  print(\"\\n\")\n",
    "\n",
    "  # Acurácia dos dados de teste\n",
    "  print(\"TEST ACCURACY SCORE:\\n\")\n",
    "  print(\"Original Data:\", accuracy_score(y_te, p_test))\n",
    "  print(\"Normalized Data:\", accuracy_score(y_te, p_test_norm))\n",
    "  print(\"Standardized Data:\", accuracy_score(y_te, p_test_std))\n",
    "\n",
    "  #print('-'*20)\n",
    "\n",
    "  print(\"\\n\")\n",
    "\n",
    "  # Plot da Confusion Matrix\n",
    "  cmd = ConfusionMatrixDisplay(cm, display_labels=['0','1'])\n",
    "  cmd_norm = ConfusionMatrixDisplay(cm_norm, display_labels=['0','1'])\n",
    "  cmd_std = ConfusionMatrixDisplay(cm_std, display_labels=['0','1'])\n",
    "\n",
    "  print(\"Original Data:\\n\")\n",
    "  cmd.plot()\n",
    "  print(\"Normalized Data:\\n\")\n",
    "  cmd_norm.plot()\n",
    "  print(\"Standardized Data:\\n\")\n",
    "  cmd_std.plot()\n"
   ]
  },
  {
   "cell_type": "code",
   "execution_count": 34,
   "metadata": {
    "id": "ca968Ol2BBRY"
   },
   "outputs": [],
   "source": [
    "from sklearn.neighbors import KNeighborsClassifier\n",
    "from sklearn.naive_bayes import GaussianNB\n",
    "from sklearn.linear_model import LogisticRegression\n",
    "from sklearn.ensemble import RandomForestClassifier\n",
    "from sklearn.ensemble import ExtraTreesClassifier\n",
    "from sklearn.tree import DecisionTreeClassifier\n",
    "from sklearn.ensemble import AdaBoostClassifier\n",
    "from sklearn.ensemble import GradientBoostingClassifier\n",
    "from sklearn.neural_network import MLPClassifier\n"
   ]
  },
  {
   "cell_type": "code",
   "execution_count": 35,
   "metadata": {
    "colab": {
     "base_uri": "https://localhost:8080/",
     "height": 1000
    },
    "id": "-X2tsxeqOLtV",
    "outputId": "f49f6318-daf2-4ae2-9d6a-b23f1ac2aef7"
   },
   "outputs": [
    {
     "name": "stdout",
     "output_type": "stream",
     "text": [
      "CONFUSION MATRIX:\n",
      "\n",
      "Original Data:\n",
      " [[16133  4432]\n",
      " [  466   333]]\n",
      "Normalized Data\n",
      ": [[17740  2825]\n",
      " [  468   331]]\n",
      "Standardized Data\n",
      ": [[13460  7105]\n",
      " [  370   429]]\n",
      "\n",
      "\n",
      "TRAIN ACCURACY SCORE:\n",
      "\n",
      "Original Data: 0.9019609892751866\n",
      "Normalized Data: 0.9284071666004641\n",
      "Standardized Data: 0.9315326239207242\n",
      "\n",
      "\n",
      "TEST ACCURACY SCORE:\n",
      "\n",
      "Original Data: 0.7707358172626849\n",
      "Normalized Data: 0.8458621980902453\n",
      "Standardized Data: 0.650112338513387\n",
      "\n",
      "\n",
      "Original Data:\n",
      "\n",
      "Normalized Data:\n",
      "\n",
      "Standardized Data:\n",
      "\n"
     ]
    },
    {
     "data": {
      "image/png": "[encoded data removed]",
      "text/plain": [
       "<Figure size 432x288 with 2 Axes>"
      ]
     },
     "metadata": {
      "needs_background": "light"
     },
     "output_type": "display_data"
    },
    {
     "data": {
      "image/png": "[encoded data removed]",
      "text/plain": [
       "<Figure size 432x288 with 2 Axes>"
      ]
     },
     "metadata": {
      "needs_background": "light"
     },
     "output_type": "display_data"
    },
    {
     "data": {
      "image/png": "[encoded data removed]",
      "text/plain": [
       "<Figure size 432x288 with 2 Axes>"
      ]
     },
     "metadata": {
      "needs_background": "light"
     },
     "output_type": "display_data"
    }
   ],
   "source": [
    "classification(balanced_x_train, balanced_y_train, reduced_x_test, y_test, KNeighborsClassifier)"
   ]
  },
  {
   "cell_type": "code",
   "execution_count": 36,
   "metadata": {
    "colab": {
     "base_uri": "https://localhost:8080/",
     "height": 1000
    },
    "id": "Qi5S4R4QwFMx",
    "outputId": "abe67311-9661-40a9-83b7-ae28809a3b39"
   },
   "outputs": [
    {
     "name": "stdout",
     "output_type": "stream",
     "text": [
      "CONFUSION MATRIX:\n",
      "\n",
      "Original Data:\n",
      " [[ 1900 18665]\n",
      " [   25   774]]\n",
      "Normalized Data\n",
      ": [[ 6512 14053]\n",
      " [  146   653]]\n",
      "Standardized Data\n",
      ": [[ 3637 16928]\n",
      " [   62   737]]\n",
      "\n",
      "\n",
      "TRAIN ACCURACY SCORE:\n",
      "\n",
      "Original Data: 0.5338678318315807\n",
      "Normalized Data: 0.5966173980306483\n",
      "Standardized Data: 0.5966173980306483\n",
      "\n",
      "\n",
      "TEST ACCURACY SCORE:\n",
      "\n",
      "Original Data: 0.1251638269986894\n",
      "Normalized Data: 0.3353772701741247\n",
      "Standardized Data: 0.20473694064781875\n",
      "\n",
      "\n",
      "Original Data:\n",
      "\n",
      "Normalized Data:\n",
      "\n",
      "Standardized Data:\n",
      "\n"
     ]
    },
    {
     "data": {
      "image/png": "[encoded data removed]",
      "text/plain": [
       "<Figure size 432x288 with 2 Axes>"
      ]
     },
     "metadata": {
      "needs_background": "light"
     },
     "output_type": "display_data"
    },
    {
     "data": {
      "image/png": "[encoded data removed]",
      "text/plain": [
       "<Figure size 432x288 with 2 Axes>"
      ]
     },
     "metadata": {
      "needs_background": "light"
     },
     "output_type": "display_data"
    },
    {
     "data": {
      "image/png": "[encoded data removed]",
      "text/plain": [
       "<Figure size 432x288 with 2 Axes>"
      ]
     },
     "metadata": {
      "needs_background": "light"
     },
     "output_type": "display_data"
    }
   ],
   "source": [
    "classification(balanced_x_train, balanced_y_train, reduced_x_test, y_test, GaussianNB)"
   ]
  },
  {
   "cell_type": "code",
   "execution_count": 37,
   "metadata": {},
   "outputs": [
    {
     "name": "stderr",
     "output_type": "stream",
     "text": [
      "C:\\Users\\thale\\Anaconda3\\lib\\site-packages\\sklearn\\linear_model\\_logistic.py:765: ConvergenceWarning: lbfgs failed to converge (status=1):\n",
      "STOP: TOTAL NO. of ITERATIONS REACHED LIMIT.\n",
      "\n",
      "Increase the number of iterations (max_iter) or scale the data as shown in:\n",
      "    https://scikit-learn.org/stable/modules/preprocessing.html\n",
      "Please also refer to the documentation for alternative solver options:\n",
      "    https://scikit-learn.org/stable/modules/linear_model.html#logistic-regression\n",
      "  extra_warning_msg=_LOGISTIC_SOLVER_CONVERGENCE_MSG)\n",
      "C:\\Users\\thale\\Anaconda3\\lib\\site-packages\\sklearn\\linear_model\\_logistic.py:765: ConvergenceWarning: lbfgs failed to converge (status=1):\n",
      "STOP: TOTAL NO. of ITERATIONS REACHED LIMIT.\n",
      "\n",
      "Increase the number of iterations (max_iter) or scale the data as shown in:\n",
      "    https://scikit-learn.org/stable/modules/preprocessing.html\n",
      "Please also refer to the documentation for alternative solver options:\n",
      "    https://scikit-learn.org/stable/modules/linear_model.html#logistic-regression\n",
      "  extra_warning_msg=_LOGISTIC_SOLVER_CONVERGENCE_MSG)\n"
     ]
    },
    {
     "name": "stdout",
     "output_type": "stream",
     "text": [
      "CONFUSION MATRIX:\n",
      "\n",
      "Original Data:\n",
      " [[13358  7207]\n",
      " [  281   518]]\n",
      "Normalized Data\n",
      ": [[15034  5531]\n",
      " [  295   504]]\n",
      "Standardized Data\n",
      ": [[12092  8473]\n",
      " [  185   614]]\n",
      "\n",
      "\n",
      "TRAIN ACCURACY SCORE:\n",
      "\n",
      "Original Data: 0.6720151359939791\n",
      "Normalized Data: 0.7863713335981436\n",
      "Standardized Data: 0.7973261137708276\n",
      "\n",
      "\n",
      "TEST ACCURACY SCORE:\n",
      "\n",
      "Original Data: 0.6495038382325408\n",
      "Normalized Data: 0.7272982587530425\n",
      "Standardized Data: 0.5947388129563752\n",
      "\n",
      "\n",
      "Original Data:\n",
      "\n",
      "Normalized Data:\n",
      "\n",
      "Standardized Data:\n",
      "\n"
     ]
    },
    {
     "data": {
      "image/png": "[encoded data removed]",
      "text/plain": [
       "<Figure size 432x288 with 2 Axes>"
      ]
     },
     "metadata": {
      "needs_background": "light"
     },
     "output_type": "display_data"
    },
    {
     "data": {
      "image/png": "[encoded data removed]",
      "text/plain": [
       "<Figure size 432x288 with 2 Axes>"
      ]
     },
     "metadata": {
      "needs_background": "light"
     },
     "output_type": "display_data"
    },
    {
     "data": {
      "image/png": "[encoded data removed]",
      "text/plain": [
       "<Figure size 432x288 with 2 Axes>"
      ]
     },
     "metadata": {
      "needs_background": "light"
     },
     "output_type": "display_data"
    }
   ],
   "source": [
    "classification(balanced_x_train, balanced_y_train, reduced_x_test, y_test, LogisticRegression)"
   ]
  },
  {
   "cell_type": "code",
   "execution_count": 38,
   "metadata": {
    "colab": {
     "base_uri": "https://localhost:8080/",
     "height": 1000
    },
    "id": "siBloovmwFf5",
    "outputId": "0397dcb0-f5bc-4a40-ad61-89958bb3f317"
   },
   "outputs": [
    {
     "name": "stdout",
     "output_type": "stream",
     "text": [
      "CONFUSION MATRIX:\n",
      "\n",
      "Original Data:\n",
      " [[19444  1121]\n",
      " [  588   211]]\n",
      "Normalized Data\n",
      ": [[15580  4985]\n",
      " [  366   433]]\n",
      "Standardized Data\n",
      ": [[ 5262 15303]\n",
      " [  116   683]]\n",
      "\n",
      "\n",
      "TRAIN ACCURACY SCORE:\n",
      "\n",
      "Original Data: 0.9977107854410135\n",
      "Normalized Data: 0.974923170196308\n",
      "Standardized Data: 0.9976585202684339\n",
      "\n",
      "\n",
      "TEST ACCURACY SCORE:\n",
      "\n",
      "Original Data: 0.9200056169256694\n",
      "Normalized Data: 0.7495319228608874\n",
      "Standardized Data: 0.27827185920239655\n",
      "\n",
      "\n",
      "Original Data:\n",
      "\n",
      "Normalized Data:\n",
      "\n",
      "Standardized Data:\n",
      "\n"
     ]
    },
    {
     "data": {
      "image/png": "[encoded data removed]",
      "text/plain": [
       "<Figure size 432x288 with 2 Axes>"
      ]
     },
     "metadata": {
      "needs_background": "light"
     },
     "output_type": "display_data"
    },
    {
     "data": {
      "image/png": "[encoded data removed]",
      "text/plain": [
       "<Figure size 432x288 with 2 Axes>"
      ]
     },
     "metadata": {
      "needs_background": "light"
     },
     "output_type": "display_data"
    },
    {
     "data": {
      "image/png": "[encoded data removed]",
      "text/plain": [
       "<Figure size 432x288 with 2 Axes>"
      ]
     },
     "metadata": {
      "needs_background": "light"
     },
     "output_type": "display_data"
    }
   ],
   "source": [
    "classification(balanced_x_train, balanced_y_train, reduced_x_test, y_test, RandomForestClassifier)"
   ]
  },
  {
   "cell_type": "code",
   "execution_count": 39,
   "metadata": {
    "colab": {
     "base_uri": "https://localhost:8080/",
     "height": 1000
    },
    "id": "mUl4is-LtHO2",
    "outputId": "54ed7d7b-bdba-44a2-e8b2-066e51f0cab9"
   },
   "outputs": [
    {
     "name": "stdout",
     "output_type": "stream",
     "text": [
      "CONFUSION MATRIX:\n",
      "\n",
      "Original Data:\n",
      " [[19353  1212]\n",
      " [  572   227]]\n",
      "Normalized Data\n",
      ": [[16056  4509]\n",
      " [  372   427]]\n",
      "Standardized Data\n",
      ": [[ 4502 16063]\n",
      " [  302   497]]\n",
      "\n",
      "\n",
      "TRAIN ACCURACY SCORE:\n",
      "\n",
      "Original Data: 0.9977107854410135\n",
      "Normalized Data: 0.9964564212991032\n",
      "Standardized Data: 0.9977107854410135\n",
      "\n",
      "\n",
      "TEST ACCURACY SCORE:\n",
      "\n",
      "Original Data: 0.9164950383823254\n",
      "Normalized Data: 0.7715315483991761\n",
      "Standardized Data: 0.23399176184235163\n",
      "\n",
      "\n",
      "Original Data:\n",
      "\n",
      "Normalized Data:\n",
      "\n",
      "Standardized Data:\n",
      "\n"
     ]
    },
    {
     "data": {
      "image/png": "[encoded data removed]",
      "text/plain": [
       "<Figure size 432x288 with 2 Axes>"
      ]
     },
     "metadata": {
      "needs_background": "light"
     },
     "output_type": "display_data"
    },
    {
     "data": {
      "image/png": "[encoded data removed]",
      "text/plain": [
       "<Figure size 432x288 with 2 Axes>"
      ]
     },
     "metadata": {
      "needs_background": "light"
     },
     "output_type": "display_data"
    },
    {
     "data": {
      "image/png": "[encoded data removed]",
      "text/plain": [
       "<Figure size 432x288 with 2 Axes>"
      ]
     },
     "metadata": {
      "needs_background": "light"
     },
     "output_type": "display_data"
    }
   ],
   "source": [
    "classification(balanced_x_train, balanced_y_train, reduced_x_test, y_test, ExtraTreesClassifier)"
   ]
  },
  {
   "cell_type": "code",
   "execution_count": 40,
   "metadata": {
    "colab": {
     "base_uri": "https://localhost:8080/",
     "height": 1000
    },
    "id": "f_4LjiZDwFoE",
    "outputId": "0062cfd8-2618-4ace-82a5-de876c26c43f"
   },
   "outputs": [
    {
     "name": "stdout",
     "output_type": "stream",
     "text": [
      "CONFUSION MATRIX:\n",
      "\n",
      "Original Data:\n",
      " [[19105  1460]\n",
      " [  616   183]]\n",
      "Normalized Data\n",
      ": [[16669  3896]\n",
      " [  668   131]]\n",
      "Standardized Data\n",
      ": [[13750  6815]\n",
      " [  605   194]]\n",
      "\n",
      "\n",
      "TRAIN ACCURACY SCORE:\n",
      "\n",
      "Original Data: 0.9977107854410135\n",
      "Normalized Data: 0.9948466539836515\n",
      "Standardized Data: 0.9976794263374658\n",
      "\n",
      "\n",
      "TEST ACCURACY SCORE:\n",
      "\n",
      "Original Data: 0.9028271859202397\n",
      "Normalized Data: 0.7863695937090432\n",
      "Standardized Data: 0.6526867627785059\n",
      "\n",
      "\n",
      "Original Data:\n",
      "\n",
      "Normalized Data:\n",
      "\n",
      "Standardized Data:\n",
      "\n"
     ]
    },
    {
     "data": {
      "image/png": "[encoded data removed]",
      "text/plain": [
       "<Figure size 432x288 with 2 Axes>"
      ]
     },
     "metadata": {
      "needs_background": "light"
     },
     "output_type": "display_data"
    },
    {
     "data": {
      "image/png": "[encoded data removed]",
      "text/plain": [
       "<Figure size 432x288 with 2 Axes>"
      ]
     },
     "metadata": {
      "needs_background": "light"
     },
     "output_type": "display_data"
    },
    {
     "data": {
      "image/png": "[encoded data removed]",
      "text/plain": [
       "<Figure size 432x288 with 2 Axes>"
      ]
     },
     "metadata": {
      "needs_background": "light"
     },
     "output_type": "display_data"
    }
   ],
   "source": [
    "classification(balanced_x_train, balanced_y_train, reduced_x_test, y_test, DecisionTreeClassifier)"
   ]
  },
  {
   "cell_type": "code",
   "execution_count": 41,
   "metadata": {
    "colab": {
     "base_uri": "https://localhost:8080/",
     "height": 1000
    },
    "id": "DrYvRdnnZW1D",
    "outputId": "1c54ab5d-08c2-4a46-e31b-e09f6ac1b050"
   },
   "outputs": [
    {
     "name": "stdout",
     "output_type": "stream",
     "text": [
      "CONFUSION MATRIX:\n",
      "\n",
      "Original Data:\n",
      " [[18016  2549]\n",
      " [  381   418]]\n",
      "Normalized Data\n",
      ": [[17380  3185]\n",
      " [  355   444]]\n",
      "Standardized Data\n",
      ": [[ 2929 17636]\n",
      " [   53   746]]\n",
      "\n",
      "\n",
      "TRAIN ACCURACY SCORE:\n",
      "\n",
      "Original Data: 0.8798737273430477\n",
      "Normalized Data: 0.876183806158928\n",
      "Standardized Data: 0.875138502707336\n",
      "\n",
      "\n",
      "TEST ACCURACY SCORE:\n",
      "\n",
      "Original Data: 0.8628533982400299\n",
      "Normalized Data: 0.8343006927541659\n",
      "Standardized Data: 0.1720183486238532\n",
      "\n",
      "\n",
      "Original Data:\n",
      "\n",
      "Normalized Data:\n",
      "\n",
      "Standardized Data:\n",
      "\n"
     ]
    },
    {
     "data": {
      "image/png": "[encoded data removed]",
      "text/plain": [
       "<Figure size 432x288 with 2 Axes>"
      ]
     },
     "metadata": {
      "needs_background": "light"
     },
     "output_type": "display_data"
    },
    {
     "data": {
      "image/png": "[encoded data removed]",
      "text/plain": [
       "<Figure size 432x288 with 2 Axes>"
      ]
     },
     "metadata": {
      "needs_background": "light"
     },
     "output_type": "display_data"
    },
    {
     "data": {
      "image/png": "[encoded data removed]",
      "text/plain": [
       "<Figure size 432x288 with 2 Axes>"
      ]
     },
     "metadata": {
      "needs_background": "light"
     },
     "output_type": "display_data"
    }
   ],
   "source": [
    "classification(balanced_x_train, balanced_y_train, reduced_x_test, y_test, AdaBoostClassifier)"
   ]
  },
  {
   "cell_type": "code",
   "execution_count": 42,
   "metadata": {
    "colab": {
     "base_uri": "https://localhost:8080/",
     "height": 1000
    },
    "id": "T5-nj_TqZW37",
    "outputId": "e99e123b-acf0-4733-b8ff-2f5823716f91"
   },
   "outputs": [
    {
     "name": "stdout",
     "output_type": "stream",
     "text": [
      "CONFUSION MATRIX:\n",
      "\n",
      "Original Data:\n",
      " [[18570  1995]\n",
      " [  421   378]]\n",
      "Normalized Data\n",
      ": [[16929  3636]\n",
      " [  318   481]]\n",
      "Standardized Data\n",
      ": [[ 3706 16859]\n",
      " [   45   754]]\n",
      "\n",
      "\n",
      "TRAIN ACCURACY SCORE:\n",
      "\n",
      "Original Data: 0.89915957602492\n",
      "Normalized Data: 0.8938285284218008\n",
      "Standardized Data: 0.8987832667823469\n",
      "\n",
      "\n",
      "TEST ACCURACY SCORE:\n",
      "\n",
      "Original Data: 0.8869125631904138\n",
      "Normalized Data: 0.8149222991949073\n",
      "Standardized Data: 0.20876240404418647\n",
      "\n",
      "\n",
      "Original Data:\n",
      "\n",
      "Normalized Data:\n",
      "\n",
      "Standardized Data:\n",
      "\n"
     ]
    },
    {
     "data": {
      "image/png": "[encoded data removed]",
      "text/plain": [
       "<Figure size 432x288 with 2 Axes>"
      ]
     },
     "metadata": {
      "needs_background": "light"
     },
     "output_type": "display_data"
    },
    {
     "data": {
      "image/png": "[encoded data removed]",
      "text/plain": [
       "<Figure size 432x288 with 2 Axes>"
      ]
     },
     "metadata": {
      "needs_background": "light"
     },
     "output_type": "display_data"
    },
    {
     "data": {
      "image/png": "[encoded data removed]",
      "text/plain": [
       "<Figure size 432x288 with 2 Axes>"
      ]
     },
     "metadata": {
      "needs_background": "light"
     },
     "output_type": "display_data"
    }
   ],
   "source": [
    "classification(balanced_x_train, balanced_y_train, reduced_x_test, y_test, GradientBoostingClassifier)"
   ]
  },
  {
   "cell_type": "code",
   "execution_count": 43,
   "metadata": {
    "colab": {
     "base_uri": "https://localhost:8080/",
     "height": 1000
    },
    "id": "THrIabpqZW6u",
    "outputId": "8f882596-d930-45f7-b9eb-a7faafad61bd"
   },
   "outputs": [
    {
     "name": "stderr",
     "output_type": "stream",
     "text": [
      "C:\\Users\\thale\\Anaconda3\\lib\\site-packages\\sklearn\\neural_network\\_multilayer_perceptron.py:617: ConvergenceWarning: Stochastic Optimizer: Maximum iterations (200) reached and the optimization hasn't converged yet.\n",
      "  % self.max_iter, ConvergenceWarning)\n",
      "C:\\Users\\thale\\Anaconda3\\lib\\site-packages\\sklearn\\neural_network\\_multilayer_perceptron.py:617: ConvergenceWarning: Stochastic Optimizer: Maximum iterations (200) reached and the optimization hasn't converged yet.\n",
      "  % self.max_iter, ConvergenceWarning)\n"
     ]
    },
    {
     "name": "stdout",
     "output_type": "stream",
     "text": [
      "CONFUSION MATRIX:\n",
      "\n",
      "Original Data:\n",
      " [[19333  1232]\n",
      " [  540   259]]\n",
      "Normalized Data\n",
      ": [[18508  2057]\n",
      " [  447   352]]\n",
      "Standardized Data\n",
      ": [[ 8305 12260]\n",
      " [  173   626]]\n",
      "\n",
      "\n",
      "TRAIN ACCURACY SCORE:\n",
      "\n",
      "Original Data: 0.6999979093930968\n",
      "Normalized Data: 0.8798423682394999\n",
      "Standardized Data: 0.9045010766625552\n",
      "\n",
      "\n",
      "TEST ACCURACY SCORE:\n",
      "\n",
      "Original Data: 0.9170567309492604\n",
      "Normalized Data: 0.8827934843662235\n",
      "Standardized Data: 0.41803969294139676\n",
      "\n",
      "\n",
      "Original Data:\n",
      "\n",
      "Normalized Data:\n",
      "\n",
      "Standardized Data:\n",
      "\n"
     ]
    },
    {
     "data": {
      "image/png": "[encoded data removed]",
      "text/plain": [
       "<Figure size 432x288 with 2 Axes>"
      ]
     },
     "metadata": {
      "needs_background": "light"
     },
     "output_type": "display_data"
    },
    {
     "data": {
      "image/png": "[encoded data removed]",
      "text/plain": [
       "<Figure size 432x288 with 2 Axes>"
      ]
     },
     "metadata": {
      "needs_background": "light"
     },
     "output_type": "display_data"
    },
    {
     "data": {
      "image/png": "[encoded data removed]",
      "text/plain": [
       "<Figure size 432x288 with 2 Axes>"
      ]
     },
     "metadata": {
      "needs_background": "light"
     },
     "output_type": "display_data"
    }
   ],
   "source": [
    "classification(balanced_x_train, balanced_y_train, reduced_x_test, y_test, MLPClassifier)"
   ]
  },
  {
   "cell_type": "markdown",
   "metadata": {
    "id": "rGrSurktlJbJ"
   },
   "source": [
    "<p align=\"justify\">Pelos resultados temos o algoritmo Random Forest como sendo o melhor entre os selecionados para os primeiros testes. A acurácia nos dados de teste foi bem satisfatória, tão quanto a acurária de treino. Com esses resultados, agora se faz necessário otimizar o modelo que já foi o melhor entre os escolhidos</p>"
   ]
  },
  {
   "cell_type": "markdown",
   "metadata": {
    "id": "v_BHcTuTnYKA"
   },
   "source": [
    "<p align=\"justify\"><h2>3.1. Otimização do do algoritmo Random Forest</h2></p>"
   ]
  },
  {
   "cell_type": "markdown",
   "metadata": {},
   "source": [
    "<p align=\"justify\">Com os resultados obtidos com os treinamentos dos modelos de machine learning, observamos que o algoritmo do random forest foi o que obteve melhor performance entre todos eles, utilizando os dados originais, sem normalização e nem padronização. Com isso vamos buscar melhorar a performance dele otimizando os hiperparâmetros possíveis do modelo.</p>"
   ]
  },
  {
   "cell_type": "code",
   "execution_count": 44,
   "metadata": {
    "id": "WX_Jds87ZXDK"
   },
   "outputs": [],
   "source": [
    "from sklearn.model_selection import GridSearchCV\n",
    "\n",
    "def best_value(x_tr, y_tr, model, parameter, values):\n",
    "    \n",
    "    valores_grid = {parameter: np.array(values)}\n",
    "\n",
    "    # Criando o modelo\n",
    "    modelo = model()\n",
    "\n",
    "    # Criando o grid\n",
    "    grid = GridSearchCV(estimator = modelo, param_grid = valores_grid)\n",
    "    grid.fit(x_tr, y_tr)\n",
    "\n",
    "    # Print do resultado\n",
    "    print(\"Melhores Parâmetros do Modelo:\\n\", grid.best_estimator_)"
   ]
  },
  {
   "cell_type": "code",
   "execution_count": 64,
   "metadata": {
    "id": "C_7mWCfQZXFs"
   },
   "outputs": [
    {
     "name": "stdout",
     "output_type": "stream",
     "text": [
      "Melhores Parâmetros do Modelo:\n",
      " RandomForestClassifier(n_estimators=200)\n"
     ]
    }
   ],
   "source": [
    "best_value(balanced_x_train, balanced_y_train, RandomForestClassifier, 'n_estimators', [50, 100, 200])"
   ]
  },
  {
   "cell_type": "code",
   "execution_count": 56,
   "metadata": {
    "id": "rYyr-JJgZXIz"
   },
   "outputs": [
    {
     "name": "stdout",
     "output_type": "stream",
     "text": [
      "Melhores Parâmetros do Modelo:\n",
      " RandomForestClassifier(n_jobs=5)\n"
     ]
    }
   ],
   "source": [
    "best_value(balanced_x_train, balanced_y_train, RandomForestClassifier, 'n_jobs', [-1,1,3,5])"
   ]
  },
  {
   "cell_type": "code",
   "execution_count": 57,
   "metadata": {},
   "outputs": [
    {
     "name": "stdout",
     "output_type": "stream",
     "text": [
      "Melhores Parâmetros do Modelo:\n",
      " RandomForestClassifier(max_depth=40)\n"
     ]
    }
   ],
   "source": [
    "best_value(balanced_x_train, balanced_y_train, RandomForestClassifier, 'max_depth', [10,20,30,40,50])"
   ]
  },
  {
   "cell_type": "markdown",
   "metadata": {},
   "source": [
    "<p align=\"justify\">Apos a realização da otimização de alguns parâmetros do algoritmo Random Forest, vamos aplicar novamente os dados no algoritmo para verificar se terá algum ganho em relação a acurácia de teste.</p>"
   ]
  },
  {
   "cell_type": "code",
   "execution_count": 46,
   "metadata": {},
   "outputs": [
    {
     "name": "stdout",
     "output_type": "stream",
     "text": [
      "CONFUSION MATRIX:\n",
      "\n",
      "Original Data:\n",
      " [[19461  1104]\n",
      " [  585   214]]\n",
      "\n",
      "\n",
      "TRAIN ACCURACY SCORE:\n",
      "\n",
      "Original Data: 0.9977107854410135\n",
      "\n",
      "\n",
      "TEST ACCURACY SCORE:\n",
      "\n",
      "Original Data: 0.9209417712038944\n",
      "\n",
      "\n",
      "Original Data:\n",
      "\n"
     ]
    },
    {
     "data": {
      "text/plain": [
       "<sklearn.metrics._plot.confusion_matrix.ConfusionMatrixDisplay at 0x13982980518>"
      ]
     },
     "execution_count": 46,
     "metadata": {},
     "output_type": "execute_result"
    },
    {
     "data": {
      "image/png": "[encoded data removed]",
      "text/plain": [
       "<Figure size 432x288 with 2 Axes>"
      ]
     },
     "metadata": {
      "needs_background": "light"
     },
     "output_type": "display_data"
    }
   ],
   "source": [
    "# Atribuindo e treinando o modelo escolhido. Realizando a predição\n",
    "model = RandomForestClassifier(n_estimators=200)\n",
    "\n",
    "# Treinando um modelo com dados não transformados\n",
    "model.fit(balanced_x_train, balanced_y_train)\n",
    "p_train = model.predict(balanced_x_train)\n",
    "p_test = model.predict(reduced_x_test)\n",
    "\n",
    "# Visualizando a Confusion Matrix\n",
    "cm = confusion_matrix(y_test, p_test)\n",
    "\n",
    "# Confusion Matrix\n",
    "print(\"CONFUSION MATRIX:\\n\")\n",
    "print(\"Original Data:\\n\", cm)\n",
    "print(\"\\n\")\n",
    "\n",
    "# Acurácia dos dados de treino\n",
    "print(\"TRAIN ACCURACY SCORE:\\n\")\n",
    "print(\"Original Data:\", accuracy_score(balanced_y_train, p_train))\n",
    "print(\"\\n\")\n",
    "\n",
    "# Acurácia dos dados de teste\n",
    "print(\"TEST ACCURACY SCORE:\\n\")\n",
    "print(\"Original Data:\", accuracy_score(y_test, p_test))\n",
    "print(\"\\n\")\n",
    "\n",
    "# Plot da Confusion Matrix\n",
    "cmd = ConfusionMatrixDisplay(cm, display_labels=['0','1'])\n",
    "print(\"Original Data:\\n\")\n",
    "cmd.plot()\n",
    "  "
   ]
  },
  {
   "cell_type": "markdown",
   "metadata": {},
   "source": [
    "<p align=\"justify\">Observamos que tivemos um ganho pouco significativo no resultado da acurácia do modelo após a otimização do parâmetro n_estimators. Entretanto, isso se torna bastante significativo se considerarmos uma grande quantidade de previsões feitas. Observe que apesar de termos avaliados três parâmetros, utilizamos apenas um para a tentar a otimização, já que tentar otimizar com os três selecionados não foi uma prática satisfatória, não tendo ganho de acurácia no modelo pretendido.</p>"
   ]
  },
  {
   "cell_type": "markdown",
   "metadata": {},
   "source": [
    "<h2>3.2. Utilizando PCA para reduzir a dimensionalidade do modelo</h2>"
   ]
  },
  {
   "cell_type": "markdown",
   "metadata": {},
   "source": [
    "<p align=\"justify\">Com o intuito de buscar uma melhoria no algoritmo Random Forest, vamos testar a realização de uma redução de dimensionalidade através do PCA (principal component analysis), tentando reduzir ainda mais a quantidade de atributos no conjunto de dados, visando um ganho de acurácia do modelo.</p>"
   ]
  },
  {
   "cell_type": "code",
   "execution_count": 52,
   "metadata": {},
   "outputs": [],
   "source": [
    "# Padronizando os dados para utilização no algpritmo do PCA utilizando a função MinMaxScaler/StandardScalar do pacote sklearn.preprocessing\n",
    "\n",
    "standard = StandardScaler()\n",
    "normalized = MinMaxScaler()\n",
    "\n",
    "x_train_std = standard.fit_transform(balanced_x_train)\n",
    "x_test_std = standard.fit_transform(reduced_x_test)\n",
    "\n",
    "x_train_norm = normalized.fit_transform(balanced_x_train)\n",
    "x_test_norm = normalized.fit_transform(reduced_x_test)"
   ]
  },
  {
   "cell_type": "code",
   "execution_count": 53,
   "metadata": {},
   "outputs": [],
   "source": [
    "# Algoritmo de PCA\n",
    "from sklearn.decomposition import PCA\n",
    "\n",
    "#pca = PCA(0.95)\n",
    "pca = PCA(n_components=15)\n",
    "\n",
    "# Reduzindo os atributos com os dados normalizados\n",
    "x_train_pca_norm = pca.fit_transform(x_train_norm)\n",
    "x_test_pca_norm = pca.fit_transform(x_test_norm)\n",
    "\n",
    "# Reduzindo os atributos com os dados padronizados\n",
    "x_train_pca_std = pca.fit_transform(x_train_std)\n",
    "x_test_pca_std = pca.fit_transform(x_test_std)"
   ]
  },
  {
   "cell_type": "code",
   "execution_count": 54,
   "metadata": {},
   "outputs": [
    {
     "name": "stdout",
     "output_type": "stream",
     "text": [
      "CONFUSION MATRIX:\n",
      "\n",
      "Original Data:\n",
      " [[ 6856 13709]\n",
      " [  442   357]]\n",
      "\n",
      "\n",
      "TRAIN ACCURACY SCORE:\n",
      "\n",
      "Original Data: 0.9573829782785943\n",
      "\n",
      "\n",
      "TEST ACCURACY SCORE:\n",
      "\n",
      "Original Data: 0.33762404044186484\n",
      "\n",
      "\n",
      "Original Data:\n",
      "\n"
     ]
    },
    {
     "data": {
      "text/plain": [
       "<sklearn.metrics._plot.confusion_matrix.ConfusionMatrixDisplay at 0x1398175c5c0>"
      ]
     },
     "execution_count": 54,
     "metadata": {},
     "output_type": "execute_result"
    },
    {
     "data": {
      "image/png": "[encoded data removed]",
      "text/plain": [
       "<Figure size 432x288 with 2 Axes>"
      ]
     },
     "metadata": {
      "needs_background": "light"
     },
     "output_type": "display_data"
    }
   ],
   "source": [
    "# Aplicando os dados com redução de dimensionalidade no algoritmo do Random Forest\n",
    "model_pca = RandomForestClassifier(n_estimators=200)\n",
    "\n",
    "# Treinando um modelo com dados normalizados\n",
    "model_pca.fit(x_train_pca_norm, balanced_y_train)\n",
    "p_train = model_pca.predict(x_train_pca_norm)\n",
    "p_test = model_pca.predict(x_test_pca_norm)\n",
    "\n",
    "# Visualizando a Confusion Matrix\n",
    "cm = confusion_matrix(y_test, p_test)\n",
    "\n",
    "# Confusion Matrix\n",
    "print(\"CONFUSION MATRIX:\\n\")\n",
    "print(\"Original Data:\\n\", cm)\n",
    "print(\"\\n\")\n",
    "\n",
    "# Acurácia dos dados de treino\n",
    "print(\"TRAIN ACCURACY SCORE:\\n\")\n",
    "print(\"Original Data:\", accuracy_score(balanced_y_train, p_train))\n",
    "print(\"\\n\")\n",
    "\n",
    "# Acurácia dos dados de teste\n",
    "print(\"TEST ACCURACY SCORE:\\n\")\n",
    "print(\"Original Data:\", accuracy_score(y_test, p_test))\n",
    "print(\"\\n\")\n",
    "\n",
    "# Plot da Confusion Matrix\n",
    "cmd = ConfusionMatrixDisplay(cm, display_labels=['0','1'])\n",
    "print(\"Original Data:\\n\")\n",
    "cmd.plot()"
   ]
  },
  {
   "cell_type": "code",
   "execution_count": 55,
   "metadata": {},
   "outputs": [
    {
     "name": "stdout",
     "output_type": "stream",
     "text": [
      "CONFUSION MATRIX:\n",
      "\n",
      "Original Data:\n",
      " [[ 8880 11685]\n",
      " [  567   232]]\n",
      "\n",
      "\n",
      "TRAIN ACCURACY SCORE:\n",
      "\n",
      "Original Data: 0.9975226308197269\n",
      "\n",
      "\n",
      "TEST ACCURACY SCORE:\n",
      "\n",
      "Original Data: 0.42651188915933347\n",
      "\n",
      "\n",
      "Original Data:\n",
      "\n"
     ]
    },
    {
     "data": {
      "text/plain": [
       "<sklearn.metrics._plot.confusion_matrix.ConfusionMatrixDisplay at 0x13982d31f60>"
      ]
     },
     "execution_count": 55,
     "metadata": {},
     "output_type": "execute_result"
    },
    {
     "data": {
      "image/png": "[encoded data removed]",
      "text/plain": [
       "<Figure size 432x288 with 2 Axes>"
      ]
     },
     "metadata": {
      "needs_background": "light"
     },
     "output_type": "display_data"
    }
   ],
   "source": [
    "# Treinando um modelo com dados padronizados\n",
    "model_pca.fit(x_train_pca_std, balanced_y_train)\n",
    "p_train = model_pca.predict(x_train_pca_std)\n",
    "p_test = model_pca.predict(x_test_pca_std)\n",
    "\n",
    "# Visualizando a Confusion Matrix\n",
    "cm = confusion_matrix(y_test, p_test)\n",
    "\n",
    "# Confusion Matrix\n",
    "print(\"CONFUSION MATRIX:\\n\")\n",
    "print(\"Original Data:\\n\", cm)\n",
    "print(\"\\n\")\n",
    "\n",
    "# Acurácia dos dados de treino\n",
    "print(\"TRAIN ACCURACY SCORE:\\n\")\n",
    "print(\"Original Data:\", accuracy_score(balanced_y_train, p_train))\n",
    "print(\"\\n\")\n",
    "\n",
    "# Acurácia dos dados de teste\n",
    "print(\"TEST ACCURACY SCORE:\\n\")\n",
    "print(\"Original Data:\", accuracy_score(y_test, p_test))\n",
    "print(\"\\n\")\n",
    "\n",
    "# Plot da Confusion Matrix\n",
    "cmd = ConfusionMatrixDisplay(cm, display_labels=['0','1'])\n",
    "print(\"Original Data:\\n\")\n",
    "cmd.plot()"
   ]
  },
  {
   "cell_type": "markdown",
   "metadata": {},
   "source": [
    "<p align=\"justify\">Podemos ver que essa última tentativa de melhoria do modelo através da redução de dimensionalidade com o algoritmo PCA foi bastante ineficaz, pois não ocorreu melhoria e sim perdemos rendimento do modelo que estamos trabalhando. Desse forma vamos manter a nossa escolha inicial do algoritmo Random Forest urtilizando os dados originais sem transformações, como normalização ou padronização, por exemplo.</p>"
   ]
  },
  {
   "cell_type": "markdown",
   "metadata": {},
   "source": [
    "<h1>4. Considerações Finais</h1>"
   ]
  },
  {
   "cell_type": "markdown",
   "metadata": {},
   "source": [
    "<p align=\"justify\">O projeto de predição da satisfação dos clientes do Banco Santander, levou-nos a necessidade de redução da dimensionalidade dos atributos do conjunto de dados, já que se tinha 370 atributos nos dados originais. Porém muitos desses atributos representavam a mesma informação, pois não existia variação ou pouqujíssima era observada. Além do que muitos dos atributos também tinham uma correlação muito forte entre si, o que por si só não é algo interessante, de preferência que os atributos tenham uma forte ligação com a variável target e uma baixa correlação com os outros atributos.<br>Também foi constatado que a variável target estava desbalanceada, o que poderia provocar um viés na hora do treinamento do modelo de machine learning. Foi necessário achar uma solução onde o balanceamento seria feito através de estatística, dessa forma utilizamos a função SMOTE para realizarmos essa atividade, tornando assim a variável target balanceada e pronta para o treinamento do modelo.<br>Seguindo com projeto, escolhemos alguns modelos de algoritmos para aprendizagem supervisionada do tipo classificação. No primeiro momento observamos como esses algoritmos se comportavam utilizando apenas os dados originais e vimos que o Random Florest Classifier foi o que se saiu melhor na acurácia dos dados de teste, demonstrando assim, ser o mais generalista de todos os modelos escolhidos.<br>Fizemos na sequência a otimização de alguns parâmetros, tendo um ganho pouco significativo na acurácia do modelo, mas que em grandes quantidades de previsões se torna bastante importante.<br>Por último tentamos otimizar ainda mais reduzindo a dimensionalidade dos atributos restantes dos conjuntos de dados, porém não houve melhoria, apenas perda da performance do modelo. Dessa forma ratificando que para o problema proposto, o melhor modelo continuou sendo o Random Forest Classifier com os dados originais e a otimização no parâmetro n_estimators para 200.<br>De certa forma temos uma acurácia considerada satisfatória no modelo escolhido, que quando otimizada chegou a um valor de aproximadamente 0,92. Assim consideramos finalizado o projeto proposto e entregue a solução do problema de negócios proposto.</p>"
   ]
  }
 ],
 "metadata": {
  "colab": {
   "collapsed_sections": [],
   "name": "Prevendo_o_Nivel_de_Satisfacao_dos_Clientes_do_Santander (4).ipynb",
   "provenance": []
  },
  "kernelspec": {
   "display_name": "Python 3",
   "language": "python",
   "name": "python3"
  },
  "language_info": {
   "codemirror_mode": {
    "name": "ipython",
    "version": 3
   },
   "file_extension": ".py",
   "mimetype": "text/x-python",
   "name": "python",
   "nbconvert_exporter": "python",
   "pygments_lexer": "ipython3",
   "version": "3.7.3"
  }
 },
 "nbformat": 4,
 "nbformat_minor": 1
}
